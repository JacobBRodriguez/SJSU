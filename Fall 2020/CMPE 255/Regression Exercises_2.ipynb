{
 "cells": [
  {
   "cell_type": "code",
   "execution_count": 1,
   "metadata": {},
   "outputs": [
    {
     "name": "stderr",
     "output_type": "stream",
     "text": [
      "C:\\Users\\Do-While\\anaconda3\\lib\\site-packages\\sklearn\\utils\\deprecation.py:143: FutureWarning: The sklearn.metrics.classification module is  deprecated in version 0.22 and will be removed in version 0.24. The corresponding classes / functions should instead be imported from sklearn.metrics. Anything that cannot be imported from sklearn.metrics is now part of the private API.\n",
      "  warnings.warn(message, FutureWarning)\n"
     ]
    },
    {
     "data": {
      "image/png": "[encoded data removed]",
      "text/plain": [
       "<Figure size 576x396 with 2 Axes>"
      ]
     },
     "metadata": {},
     "output_type": "display_data"
    }
   ],
   "source": [
    "# Plotting Anscombe residuals\n",
    "import seaborn as sns\n",
    "from sklearn import linear_model\n",
    "from yellowbrick.regressor import residuals_plot\n",
    "import pandas as pd\n",
    "\n",
    "anscombe_df = sns.load_dataset(\"anscombe\")\n",
    "x_values = pd.DataFrame(anscombe_df.iloc[33:][\"x\"])\n",
    "y_values = anscombe_df.iloc[33:][\"y\"]\n",
    "\n",
    "model = linear_model.LinearRegression()\n",
    "viz = residuals_plot(model, x_values, y_values)"
   ]
  },
  {
   "cell_type": "markdown",
   "metadata": {},
   "source": [
    "### Wine Dataset"
   ]
  },
  {
   "cell_type": "code",
   "execution_count": 2,
   "metadata": {},
   "outputs": [
    {
     "data": {
      "text/html": [
       "<div>\n",
       "<style scoped>\n",
       "    .dataframe tbody tr th:only-of-type {\n",
       "        vertical-align: middle;\n",
       "    }\n",
       "\n",
       "    .dataframe tbody tr th {\n",
       "        vertical-align: top;\n",
       "    }\n",
       "\n",
       "    .dataframe thead th {\n",
       "        text-align: right;\n",
       "    }\n",
       "</style>\n",
       "<table border=\"1\" class=\"dataframe\">\n",
       "  <thead>\n",
       "    <tr style=\"text-align: right;\">\n",
       "      <th></th>\n",
       "      <th>alcohol</th>\n",
       "      <th>malic_acid</th>\n",
       "      <th>ash</th>\n",
       "      <th>alcalinity_of_ash</th>\n",
       "      <th>magnesium</th>\n",
       "      <th>total_phenols</th>\n",
       "      <th>flavanoids</th>\n",
       "      <th>nonflavanoid_phenols</th>\n",
       "      <th>proanthocyanins</th>\n",
       "      <th>color_intensity</th>\n",
       "      <th>hue</th>\n",
       "      <th>od280/od315_of_diluted_wines</th>\n",
       "      <th>proline</th>\n",
       "      <th>class</th>\n",
       "    </tr>\n",
       "  </thead>\n",
       "  <tbody>\n",
       "    <tr>\n",
       "      <th>0</th>\n",
       "      <td>14.23</td>\n",
       "      <td>1.71</td>\n",
       "      <td>2.43</td>\n",
       "      <td>15.6</td>\n",
       "      <td>127.0</td>\n",
       "      <td>2.80</td>\n",
       "      <td>3.06</td>\n",
       "      <td>0.28</td>\n",
       "      <td>2.29</td>\n",
       "      <td>5.64</td>\n",
       "      <td>1.04</td>\n",
       "      <td>3.92</td>\n",
       "      <td>1065.0</td>\n",
       "      <td>0</td>\n",
       "    </tr>\n",
       "    <tr>\n",
       "      <th>1</th>\n",
       "      <td>13.20</td>\n",
       "      <td>1.78</td>\n",
       "      <td>2.14</td>\n",
       "      <td>11.2</td>\n",
       "      <td>100.0</td>\n",
       "      <td>2.65</td>\n",
       "      <td>2.76</td>\n",
       "      <td>0.26</td>\n",
       "      <td>1.28</td>\n",
       "      <td>4.38</td>\n",
       "      <td>1.05</td>\n",
       "      <td>3.40</td>\n",
       "      <td>1050.0</td>\n",
       "      <td>0</td>\n",
       "    </tr>\n",
       "    <tr>\n",
       "      <th>2</th>\n",
       "      <td>13.16</td>\n",
       "      <td>2.36</td>\n",
       "      <td>2.67</td>\n",
       "      <td>18.6</td>\n",
       "      <td>101.0</td>\n",
       "      <td>2.80</td>\n",
       "      <td>3.24</td>\n",
       "      <td>0.30</td>\n",
       "      <td>2.81</td>\n",
       "      <td>5.68</td>\n",
       "      <td>1.03</td>\n",
       "      <td>3.17</td>\n",
       "      <td>1185.0</td>\n",
       "      <td>0</td>\n",
       "    </tr>\n",
       "    <tr>\n",
       "      <th>3</th>\n",
       "      <td>14.37</td>\n",
       "      <td>1.95</td>\n",
       "      <td>2.50</td>\n",
       "      <td>16.8</td>\n",
       "      <td>113.0</td>\n",
       "      <td>3.85</td>\n",
       "      <td>3.49</td>\n",
       "      <td>0.24</td>\n",
       "      <td>2.18</td>\n",
       "      <td>7.80</td>\n",
       "      <td>0.86</td>\n",
       "      <td>3.45</td>\n",
       "      <td>1480.0</td>\n",
       "      <td>0</td>\n",
       "    </tr>\n",
       "    <tr>\n",
       "      <th>4</th>\n",
       "      <td>13.24</td>\n",
       "      <td>2.59</td>\n",
       "      <td>2.87</td>\n",
       "      <td>21.0</td>\n",
       "      <td>118.0</td>\n",
       "      <td>2.80</td>\n",
       "      <td>2.69</td>\n",
       "      <td>0.39</td>\n",
       "      <td>1.82</td>\n",
       "      <td>4.32</td>\n",
       "      <td>1.04</td>\n",
       "      <td>2.93</td>\n",
       "      <td>735.0</td>\n",
       "      <td>0</td>\n",
       "    </tr>\n",
       "    <tr>\n",
       "      <th>...</th>\n",
       "      <td>...</td>\n",
       "      <td>...</td>\n",
       "      <td>...</td>\n",
       "      <td>...</td>\n",
       "      <td>...</td>\n",
       "      <td>...</td>\n",
       "      <td>...</td>\n",
       "      <td>...</td>\n",
       "      <td>...</td>\n",
       "      <td>...</td>\n",
       "      <td>...</td>\n",
       "      <td>...</td>\n",
       "      <td>...</td>\n",
       "      <td>...</td>\n",
       "    </tr>\n",
       "    <tr>\n",
       "      <th>173</th>\n",
       "      <td>13.71</td>\n",
       "      <td>5.65</td>\n",
       "      <td>2.45</td>\n",
       "      <td>20.5</td>\n",
       "      <td>95.0</td>\n",
       "      <td>1.68</td>\n",
       "      <td>0.61</td>\n",
       "      <td>0.52</td>\n",
       "      <td>1.06</td>\n",
       "      <td>7.70</td>\n",
       "      <td>0.64</td>\n",
       "      <td>1.74</td>\n",
       "      <td>740.0</td>\n",
       "      <td>2</td>\n",
       "    </tr>\n",
       "    <tr>\n",
       "      <th>174</th>\n",
       "      <td>13.40</td>\n",
       "      <td>3.91</td>\n",
       "      <td>2.48</td>\n",
       "      <td>23.0</td>\n",
       "      <td>102.0</td>\n",
       "      <td>1.80</td>\n",
       "      <td>0.75</td>\n",
       "      <td>0.43</td>\n",
       "      <td>1.41</td>\n",
       "      <td>7.30</td>\n",
       "      <td>0.70</td>\n",
       "      <td>1.56</td>\n",
       "      <td>750.0</td>\n",
       "      <td>2</td>\n",
       "    </tr>\n",
       "    <tr>\n",
       "      <th>175</th>\n",
       "      <td>13.27</td>\n",
       "      <td>4.28</td>\n",
       "      <td>2.26</td>\n",
       "      <td>20.0</td>\n",
       "      <td>120.0</td>\n",
       "      <td>1.59</td>\n",
       "      <td>0.69</td>\n",
       "      <td>0.43</td>\n",
       "      <td>1.35</td>\n",
       "      <td>10.20</td>\n",
       "      <td>0.59</td>\n",
       "      <td>1.56</td>\n",
       "      <td>835.0</td>\n",
       "      <td>2</td>\n",
       "    </tr>\n",
       "    <tr>\n",
       "      <th>176</th>\n",
       "      <td>13.17</td>\n",
       "      <td>2.59</td>\n",
       "      <td>2.37</td>\n",
       "      <td>20.0</td>\n",
       "      <td>120.0</td>\n",
       "      <td>1.65</td>\n",
       "      <td>0.68</td>\n",
       "      <td>0.53</td>\n",
       "      <td>1.46</td>\n",
       "      <td>9.30</td>\n",
       "      <td>0.60</td>\n",
       "      <td>1.62</td>\n",
       "      <td>840.0</td>\n",
       "      <td>2</td>\n",
       "    </tr>\n",
       "    <tr>\n",
       "      <th>177</th>\n",
       "      <td>14.13</td>\n",
       "      <td>4.10</td>\n",
       "      <td>2.74</td>\n",
       "      <td>24.5</td>\n",
       "      <td>96.0</td>\n",
       "      <td>2.05</td>\n",
       "      <td>0.76</td>\n",
       "      <td>0.56</td>\n",
       "      <td>1.35</td>\n",
       "      <td>9.20</td>\n",
       "      <td>0.61</td>\n",
       "      <td>1.60</td>\n",
       "      <td>560.0</td>\n",
       "      <td>2</td>\n",
       "    </tr>\n",
       "  </tbody>\n",
       "</table>\n",
       "<p>178 rows × 14 columns</p>\n",
       "</div>"
      ],
      "text/plain": [
       "     alcohol  malic_acid   ash  alcalinity_of_ash  magnesium  total_phenols  \\\n",
       "0      14.23        1.71  2.43               15.6      127.0           2.80   \n",
       "1      13.20        1.78  2.14               11.2      100.0           2.65   \n",
       "2      13.16        2.36  2.67               18.6      101.0           2.80   \n",
       "3      14.37        1.95  2.50               16.8      113.0           3.85   \n",
       "4      13.24        2.59  2.87               21.0      118.0           2.80   \n",
       "..       ...         ...   ...                ...        ...            ...   \n",
       "173    13.71        5.65  2.45               20.5       95.0           1.68   \n",
       "174    13.40        3.91  2.48               23.0      102.0           1.80   \n",
       "175    13.27        4.28  2.26               20.0      120.0           1.59   \n",
       "176    13.17        2.59  2.37               20.0      120.0           1.65   \n",
       "177    14.13        4.10  2.74               24.5       96.0           2.05   \n",
       "\n",
       "     flavanoids  nonflavanoid_phenols  proanthocyanins  color_intensity   hue  \\\n",
       "0          3.06                  0.28             2.29             5.64  1.04   \n",
       "1          2.76                  0.26             1.28             4.38  1.05   \n",
       "2          3.24                  0.30             2.81             5.68  1.03   \n",
       "3          3.49                  0.24             2.18             7.80  0.86   \n",
       "4          2.69                  0.39             1.82             4.32  1.04   \n",
       "..          ...                   ...              ...              ...   ...   \n",
       "173        0.61                  0.52             1.06             7.70  0.64   \n",
       "174        0.75                  0.43             1.41             7.30  0.70   \n",
       "175        0.69                  0.43             1.35            10.20  0.59   \n",
       "176        0.68                  0.53             1.46             9.30  0.60   \n",
       "177        0.76                  0.56             1.35             9.20  0.61   \n",
       "\n",
       "     od280/od315_of_diluted_wines  proline  class  \n",
       "0                            3.92   1065.0      0  \n",
       "1                            3.40   1050.0      0  \n",
       "2                            3.17   1185.0      0  \n",
       "3                            3.45   1480.0      0  \n",
       "4                            2.93    735.0      0  \n",
       "..                            ...      ...    ...  \n",
       "173                          1.74    740.0      2  \n",
       "174                          1.56    750.0      2  \n",
       "175                          1.56    835.0      2  \n",
       "176                          1.62    840.0      2  \n",
       "177                          1.60    560.0      2  \n",
       "\n",
       "[178 rows x 14 columns]"
      ]
     },
     "execution_count": 2,
     "metadata": {},
     "output_type": "execute_result"
    }
   ],
   "source": [
    "from sklearn.datasets import load_wine\n",
    "\n",
    "wine_data = load_wine()\n",
    "wine_df = pd.DataFrame(wine_data.data, columns=wine_data.feature_names)\n",
    "wine_df.insert(13, \"class\", wine_data.target)\n",
    "wine_df"
   ]
  },
  {
   "cell_type": "code",
   "execution_count": 3,
   "metadata": {},
   "outputs": [
    {
     "name": "stdout",
     "output_type": "stream",
     "text": [
      "Coefficient of determination (r2): 0.92\n",
      "Y intercept:  3.127860544600667\n"
     ]
    }
   ],
   "source": [
    "# Use linear regression\n",
    "import numpy as np\n",
    "from sklearn.metrics import r2_score\n",
    "\n",
    "# Function to create a mask of true or false for values that are less than .7 (our 70 % mark)\n",
    "def create_training_test(incoming_df):\n",
    "    mask = np.random.rand(len(incoming_df)) < 0.7\n",
    "\n",
    "    training_set = incoming_df[mask]\n",
    "    test_set = incoming_df[~mask]\n",
    "    return training_set, test_set  \n",
    "    \n",
    "# Split the data into training/testing sets\n",
    "training_data, test_data = create_training_test(wine_df)\n",
    "\n",
    "x_train = training_data.iloc[:,0:13]\n",
    "x_test = test_data.iloc[:,0:13]\n",
    "\n",
    "y_train = training_data.iloc[:,13]\n",
    "y_test = test_data.iloc[:,13]\n",
    "\n",
    "# Create linear regression object\n",
    "reg_object = linear_model.LinearRegression()\n",
    "\n",
    "# Train model\n",
    "reg_object.fit(x_train, y_train)\n",
    "\n",
    "# Make predictions\n",
    "y_predicted = reg_object.predict(x_test)\n",
    "\n",
    "# Inspect results\n",
    "print('Coefficient of determination (r2): %.2f'\n",
    "      % r2_score(y_test, y_predicted))\n",
    "\n",
    "print('Y intercept: ',reg_object.intercept_)"
   ]
  },
  {
   "cell_type": "markdown",
   "metadata": {},
   "source": [
    "### Experiment with Cross Validation"
   ]
  },
  {
   "cell_type": "code",
   "execution_count": 4,
   "metadata": {},
   "outputs": [
    {
     "name": "stdout",
     "output_type": "stream",
     "text": [
      "2 Fold Validation Scores:  [-4.56601016 -1.77884505]\n",
      "3 Fold Validation Scores:  [-73.46648267   0.          -6.64995487]\n",
      "5 Fold Validation Scores:  [0.         0.51460008 0.         0.40252695 0.        ]\n"
     ]
    }
   ],
   "source": [
    "from sklearn.model_selection import cross_val_score\n",
    "\n",
    "# Getting all data with no train-test split\n",
    "x_data = wine_df.iloc[:,0:13]\n",
    "y_data = wine_df.iloc[:,13]\n",
    "\n",
    "reg_object_cross = linear_model.LinearRegression()\n",
    "\n",
    "# 2 Fold Validation\n",
    "print(\"2 Fold Validation Scores: \", cross_val_score(reg_object_cross, x_data, y=y_data, cv=2))\n",
    "\n",
    "# 3 Fold Validation\n",
    "print(\"3 Fold Validation Scores: \", cross_val_score(reg_object_cross, x_data, y=y_data, cv=3))\n",
    "\n",
    "# 5 Fold Validation\n",
    "print(\"5 Fold Validation Scores: \", cross_val_score(reg_object_cross, x_data, y=y_data, cv=5))"
   ]
  },
  {
   "cell_type": "markdown",
   "metadata": {},
   "source": [
    "#### Findings\n",
    "So after looking up what the large negative scores meant, I see that the evaluation did not perform well at lower folds, like 2 and 3. At 5 folds, the evaluation started to do better with decent results. Still, the single training-test split did much better than the k-Fold validation."
   ]
  },
  {
   "cell_type": "markdown",
   "metadata": {},
   "source": [
    "### Adding Polynomial features"
   ]
  },
  {
   "cell_type": "code",
   "execution_count": 5,
   "metadata": {},
   "outputs": [
    {
     "name": "stdout",
     "output_type": "stream",
     "text": [
      "Coefficient of determination (r2): 0.82\n",
      "Y intercept:  18349323.84835532\n"
     ]
    }
   ],
   "source": [
    "from sklearn.preprocessing import PolynomialFeatures\n",
    "\n",
    "# Adding polynomial of 2\n",
    "poly_2 = PolynomialFeatures(2)\n",
    "\n",
    "x_train_2 = poly_2.fit_transform(x_train)\n",
    "x_test_2 = poly_2.fit_transform(x_test)\n",
    "\n",
    "# Create linear regression object\n",
    "reg_object_2 = linear_model.LinearRegression()\n",
    "\n",
    "# Train model\n",
    "reg_object_2.fit(x_train_2, y_train)\n",
    "\n",
    "# Make predictions\n",
    "y_predicted_2 = reg_object_2.predict(x_test_2)\n",
    "\n",
    "# Inspect results\n",
    "print('Coefficient of determination (r2): %.2f'\n",
    "      % r2_score(y_test, y_predicted_2))\n",
    "\n",
    "print('Y intercept: ',reg_object_2.intercept_)"
   ]
  },
  {
   "cell_type": "code",
   "execution_count": 6,
   "metadata": {},
   "outputs": [
    {
     "name": "stdout",
     "output_type": "stream",
     "text": [
      "Coefficient of determination (r2): 0.16\n",
      "Y intercept:  0.12364295970147754\n"
     ]
    }
   ],
   "source": [
    "# Adding polynomial of 4\n",
    "poly_4 = PolynomialFeatures(4)\n",
    "\n",
    "x_train_4 = poly_4.fit_transform(x_train)\n",
    "x_test_4 = poly_4.fit_transform(x_test)\n",
    "\n",
    "# Create linear regression object\n",
    "reg_object_4 = linear_model.LinearRegression()\n",
    "\n",
    "# Train model\n",
    "reg_object_4.fit(x_train_4, y_train)\n",
    "\n",
    "# Make predictions\n",
    "y_predicted_4 = reg_object_4.predict(x_test_4)\n",
    "\n",
    "# Inspect results\n",
    "print('Coefficient of determination (r2): %.2f'\n",
    "      % r2_score(y_test, y_predicted_4))\n",
    "\n",
    "print('Y intercept: ',reg_object_4.intercept_)"
   ]
  },
  {
   "cell_type": "code",
   "execution_count": 7,
   "metadata": {},
   "outputs": [
    {
     "name": "stdout",
     "output_type": "stream",
     "text": [
      "Coefficient of determination (r2): -0.59\n",
      "Y intercept:  0.5153811514679169\n"
     ]
    }
   ],
   "source": [
    "# Adding polynomial of 5\n",
    "poly_5 = PolynomialFeatures(5)\n",
    "\n",
    "x_train_5 = poly_5.fit_transform(x_train)\n",
    "x_test_5 = poly_5.fit_transform(x_test)\n",
    "\n",
    "# Create linear regression object\n",
    "reg_object_5 = linear_model.LinearRegression()\n",
    "\n",
    "# Train model\n",
    "reg_object_5.fit(x_train_5, y_train)\n",
    "\n",
    "# Make predictions\n",
    "y_predicted_5 = reg_object_5.predict(x_test_5)\n",
    "\n",
    "# Inspect results\n",
    "print('Coefficient of determination (r2): %.2f'\n",
    "      % r2_score(y_test, y_predicted_5))\n",
    "\n",
    "print('Y intercept: ',reg_object_5.intercept_)"
   ]
  },
  {
   "cell_type": "markdown",
   "metadata": {},
   "source": [
    "### Findings\n",
    "The model seemed to not respond well to higher degrees of polynomial transformation. The best one that performed was polynomial of 2. Still the regular model with normal data has been the best so far."
   ]
  },
  {
   "cell_type": "markdown",
   "metadata": {},
   "source": [
    "### Ridge Regression"
   ]
  },
  {
   "cell_type": "code",
   "execution_count": 8,
   "metadata": {},
   "outputs": [
    {
     "name": "stdout",
     "output_type": "stream",
     "text": [
      "Coefficient of determination (r2): 0.79\n",
      "Y intercept:  146794197.45958355\n",
      "Coefficient of determination (r2): 0.44\n",
      "Y intercept:  -0.17504662412327232\n",
      "Coefficient of determination (r2): -0.13\n",
      "Y intercept:  0.6219646901339891\n"
     ]
    },
    {
     "name": "stderr",
     "output_type": "stream",
     "text": [
      "C:\\Users\\Do-While\\anaconda3\\lib\\site-packages\\sklearn\\linear_model\\_ridge.py:190: UserWarning: Singular matrix in solving dual problem. Using least-squares solution instead.\n",
      "  warnings.warn(\"Singular matrix in solving dual problem. Using \"\n",
      "C:\\Users\\Do-While\\anaconda3\\lib\\site-packages\\sklearn\\linear_model\\_ridge.py:190: UserWarning: Singular matrix in solving dual problem. Using least-squares solution instead.\n",
      "  warnings.warn(\"Singular matrix in solving dual problem. Using \"\n"
     ]
    }
   ],
   "source": [
    "from sklearn.linear_model import Ridge\n",
    "\n",
    "# Alpha of 0.0\n",
    "ridge_0 = Ridge(alpha=0.0)\n",
    "\n",
    "# Fitting on 2 poly data\n",
    "ridge_0.fit(x_train_2, y_train)\n",
    "\n",
    "y_predict = ridge_0.predict(x_test_2)\n",
    "\n",
    "# Inspect results\n",
    "print('Coefficient of determination (r2): %.2f'\n",
    "      % r2_score(y_test, y_predict))\n",
    "\n",
    "print('Y intercept: ',ridge_0.intercept_)\n",
    "\n",
    "# Fitting on 4 poly data\n",
    "ridge_0.fit(x_train_4, y_train)\n",
    "\n",
    "y_predict = ridge_0.predict(x_test_4)\n",
    "\n",
    "# Inspect results\n",
    "print('Coefficient of determination (r2): %.2f'\n",
    "      % r2_score(y_test, y_predict))\n",
    "\n",
    "print('Y intercept: ',ridge_0.intercept_)\n",
    "\n",
    "# Fitting on 5 poly data\n",
    "ridge_0.fit(x_train_5, y_train)\n",
    "\n",
    "y_predict = ridge_0.predict(x_test_5)\n",
    "\n",
    "# Inspect results\n",
    "print('Coefficient of determination (r2): %.2f'\n",
    "      % r2_score(y_test, y_predict))\n",
    "\n",
    "print('Y intercept: ',ridge_0.intercept_)"
   ]
  },
  {
   "cell_type": "code",
   "execution_count": 9,
   "metadata": {},
   "outputs": [
    {
     "name": "stdout",
     "output_type": "stream",
     "text": [
      "Coefficient of determination (r2): 0.90\n",
      "Y intercept:  1.980231683292982\n",
      "Coefficient of determination (r2): 0.44\n",
      "Y intercept:  -0.17504662412327232\n",
      "Coefficient of determination (r2): -0.13\n",
      "Y intercept:  0.6219646901339891\n"
     ]
    },
    {
     "name": "stderr",
     "output_type": "stream",
     "text": [
      "C:\\Users\\Do-While\\anaconda3\\lib\\site-packages\\sklearn\\linear_model\\_ridge.py:190: UserWarning: Singular matrix in solving dual problem. Using least-squares solution instead.\n",
      "  warnings.warn(\"Singular matrix in solving dual problem. Using \"\n",
      "C:\\Users\\Do-While\\anaconda3\\lib\\site-packages\\sklearn\\linear_model\\_ridge.py:190: UserWarning: Singular matrix in solving dual problem. Using least-squares solution instead.\n",
      "  warnings.warn(\"Singular matrix in solving dual problem. Using \"\n"
     ]
    }
   ],
   "source": [
    "# Alpha of 1.0\n",
    "\n",
    "ridge_1 = Ridge(alpha=1.0)\n",
    "\n",
    "# Fitting on 2 poly data\n",
    "ridge_1.fit(x_train_2, y_train)\n",
    "\n",
    "y_predict = ridge_1.predict(x_test_2)\n",
    "\n",
    "# Inspect results\n",
    "print('Coefficient of determination (r2): %.2f'\n",
    "      % r2_score(y_test, y_predict))\n",
    "\n",
    "print('Y intercept: ',ridge_1.intercept_)\n",
    "\n",
    "# Fitting on 4 poly data\n",
    "ridge_1.fit(x_train_4, y_train)\n",
    "\n",
    "y_predict = ridge_1.predict(x_test_4)\n",
    "\n",
    "# Inspect results\n",
    "print('Coefficient of determination (r2): %.2f'\n",
    "      % r2_score(y_test, y_predict))\n",
    "\n",
    "print('Y intercept: ',ridge_1.intercept_)\n",
    "\n",
    "# Fitting on 5 poly data\n",
    "ridge_1.fit(x_train_5, y_train)\n",
    "\n",
    "y_predict = ridge_1.predict(x_test_5)\n",
    "\n",
    "# Inspect results\n",
    "print('Coefficient of determination (r2): %.2f'\n",
    "      % r2_score(y_test, y_predict))\n",
    "\n",
    "print('Y intercept: ',ridge_1.intercept_)"
   ]
  },
  {
   "cell_type": "code",
   "execution_count": 10,
   "metadata": {},
   "outputs": [
    {
     "name": "stdout",
     "output_type": "stream",
     "text": [
      "Coefficient of determination (r2): 0.93\n",
      "Y intercept:  3.4872615050315154\n",
      "Coefficient of determination (r2): 0.44\n",
      "Y intercept:  -0.17504662412327232\n",
      "Coefficient of determination (r2): -0.13\n",
      "Y intercept:  0.6219646901339891\n"
     ]
    },
    {
     "name": "stderr",
     "output_type": "stream",
     "text": [
      "C:\\Users\\Do-While\\anaconda3\\lib\\site-packages\\sklearn\\linear_model\\_ridge.py:190: UserWarning: Singular matrix in solving dual problem. Using least-squares solution instead.\n",
      "  warnings.warn(\"Singular matrix in solving dual problem. Using \"\n",
      "C:\\Users\\Do-While\\anaconda3\\lib\\site-packages\\sklearn\\linear_model\\_ridge.py:190: UserWarning: Singular matrix in solving dual problem. Using least-squares solution instead.\n",
      "  warnings.warn(\"Singular matrix in solving dual problem. Using \"\n"
     ]
    }
   ],
   "source": [
    "# Alpha of 5.0\n",
    "\n",
    "ridge_5 = Ridge(alpha=5.0)\n",
    "\n",
    "# Fitting on 2 poly data\n",
    "ridge_5.fit(x_train_2, y_train)\n",
    "\n",
    "y_predict = ridge_5.predict(x_test_2)\n",
    "\n",
    "# Inspect results\n",
    "print('Coefficient of determination (r2): %.2f'\n",
    "      % r2_score(y_test, y_predict))\n",
    "\n",
    "print('Y intercept: ',ridge_5.intercept_)\n",
    "\n",
    "# Fitting on 4 poly data\n",
    "ridge_5.fit(x_train_4, y_train)\n",
    "\n",
    "y_predict = ridge_5.predict(x_test_4)\n",
    "\n",
    "# Inspect results\n",
    "print('Coefficient of determination (r2): %.2f'\n",
    "      % r2_score(y_test, y_predict))\n",
    "\n",
    "print('Y intercept: ',ridge_5.intercept_)\n",
    "\n",
    "# Fitting on 5 poly data\n",
    "ridge_5.fit(x_train_5, y_train)\n",
    "\n",
    "y_predict = ridge_5.predict(x_test_5)\n",
    "\n",
    "# Inspect results\n",
    "print('Coefficient of determination (r2): %.2f'\n",
    "      % r2_score(y_test, y_predict))\n",
    "\n",
    "print('Y intercept: ',ridge_5.intercept_)"
   ]
  },
  {
   "cell_type": "markdown",
   "metadata": {},
   "source": [
    "#### Findings\n",
    "Regularization helped quite a bit with bringing the scores into acceptable ranges from what they were before. Polynomial of 2 was actually able to get better results than the original linear model when fitted with an alpha of 5 for the ridge regression. One thing noted is that poly of 4 and 5 seemed to level out regardless of alpha. The alphas did make a change in their results but going from one alpha to a higher one did not affect their results further."
   ]
  },
  {
   "cell_type": "markdown",
   "metadata": {},
   "source": [
    "#### Model Coefficients"
   ]
  },
  {
   "cell_type": "code",
   "execution_count": 11,
   "metadata": {},
   "outputs": [
    {
     "name": "stdout",
     "output_type": "stream",
     "text": [
      "Ridge Coefs:  [ 0.00000000e+00  9.45258984e-20  9.02399014e-18 ...  6.73171555e-10\n",
      "  5.98723799e-12 -2.41242137e-14]\n",
      "Linear Coefs:  [-1.11964609e-01  3.39804138e-02 -1.95187158e-01  4.09156649e-02\n",
      " -2.06206260e-04  1.37490448e-01 -4.01017577e-01 -1.43131731e-01\n",
      "  4.06820971e-02  8.99460786e-02 -1.03676679e-01 -1.89482800e-01\n",
      " -6.86649707e-04]\n"
     ]
    }
   ],
   "source": [
    "print(\"Ridge Coefs: \",ridge_5.coef_)\n",
    "print(\"Linear Coefs: \",reg_object.coef_)"
   ]
  },
  {
   "cell_type": "markdown",
   "metadata": {},
   "source": [
    "The coefficients became smaller by a large amount when the data was regularized."
   ]
  },
  {
   "cell_type": "code",
   "execution_count": null,
   "metadata": {},
   "outputs": [],
   "source": []
  }
 ],
 "metadata": {
  "kernelspec": {
   "display_name": "Python 3",
   "language": "python",
   "name": "python3"
  },
  "language_info": {
   "codemirror_mode": {
    "name": "ipython",
    "version": 3
   },
   "file_extension": ".py",
   "mimetype": "text/x-python",
   "name": "python",
   "nbconvert_exporter": "python",
   "pygments_lexer": "ipython3",
   "version": "3.8.3"
  }
 },
 "nbformat": 4,
 "nbformat_minor": 4
}
