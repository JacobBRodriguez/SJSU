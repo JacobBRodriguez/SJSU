{
 "cells": [
  {
   "cell_type": "markdown",
   "metadata": {},
   "source": [
    "# Identifying and filling in missing data"
   ]
  },
  {
   "cell_type": "code",
   "execution_count": 1,
   "metadata": {},
   "outputs": [],
   "source": [
    "import pandas as pd\n",
    "import numpy as np"
   ]
  },
  {
   "cell_type": "code",
   "execution_count": 2,
   "metadata": {},
   "outputs": [],
   "source": [
    "titanic_df = pd.read_csv('../DataSets/titanicData.csv')"
   ]
  },
  {
   "cell_type": "code",
   "execution_count": 3,
   "metadata": {},
   "outputs": [
    {
     "data": {
      "text/html": [
       "<div>\n",
       "<style scoped>\n",
       "    .dataframe tbody tr th:only-of-type {\n",
       "        vertical-align: middle;\n",
       "    }\n",
       "\n",
       "    .dataframe tbody tr th {\n",
       "        vertical-align: top;\n",
       "    }\n",
       "\n",
       "    .dataframe thead th {\n",
       "        text-align: right;\n",
       "    }\n",
       "</style>\n",
       "<table border=\"1\" class=\"dataframe\">\n",
       "  <thead>\n",
       "    <tr style=\"text-align: right;\">\n",
       "      <th></th>\n",
       "      <th>PassengerId</th>\n",
       "      <th>Survived</th>\n",
       "      <th>Pclass</th>\n",
       "      <th>Name</th>\n",
       "      <th>Sex</th>\n",
       "      <th>Age</th>\n",
       "      <th>SibSp</th>\n",
       "      <th>Parch</th>\n",
       "      <th>Ticket</th>\n",
       "      <th>Fare</th>\n",
       "      <th>Cabin</th>\n",
       "      <th>Embarked</th>\n",
       "    </tr>\n",
       "  </thead>\n",
       "  <tbody>\n",
       "    <tr>\n",
       "      <th>0</th>\n",
       "      <td>1</td>\n",
       "      <td>0</td>\n",
       "      <td>3</td>\n",
       "      <td>Braund, Mr. Owen Harris</td>\n",
       "      <td>male</td>\n",
       "      <td>22.0</td>\n",
       "      <td>1</td>\n",
       "      <td>0</td>\n",
       "      <td>A/5 21171</td>\n",
       "      <td>7.2500</td>\n",
       "      <td>NaN</td>\n",
       "      <td>S</td>\n",
       "    </tr>\n",
       "    <tr>\n",
       "      <th>1</th>\n",
       "      <td>2</td>\n",
       "      <td>1</td>\n",
       "      <td>1</td>\n",
       "      <td>Cumings, Mrs. John Bradley (Florence Briggs Th...</td>\n",
       "      <td>female</td>\n",
       "      <td>38.0</td>\n",
       "      <td>1</td>\n",
       "      <td>0</td>\n",
       "      <td>PC 17599</td>\n",
       "      <td>71.2833</td>\n",
       "      <td>C85</td>\n",
       "      <td>C</td>\n",
       "    </tr>\n",
       "    <tr>\n",
       "      <th>2</th>\n",
       "      <td>3</td>\n",
       "      <td>1</td>\n",
       "      <td>3</td>\n",
       "      <td>Heikkinen, Miss. Laina</td>\n",
       "      <td>female</td>\n",
       "      <td>26.0</td>\n",
       "      <td>0</td>\n",
       "      <td>0</td>\n",
       "      <td>STON/O2. 3101282</td>\n",
       "      <td>7.9250</td>\n",
       "      <td>NaN</td>\n",
       "      <td>S</td>\n",
       "    </tr>\n",
       "    <tr>\n",
       "      <th>3</th>\n",
       "      <td>4</td>\n",
       "      <td>1</td>\n",
       "      <td>1</td>\n",
       "      <td>Futrelle, Mrs. Jacques Heath (Lily May Peel)</td>\n",
       "      <td>female</td>\n",
       "      <td>35.0</td>\n",
       "      <td>1</td>\n",
       "      <td>0</td>\n",
       "      <td>113803</td>\n",
       "      <td>53.1000</td>\n",
       "      <td>C123</td>\n",
       "      <td>S</td>\n",
       "    </tr>\n",
       "    <tr>\n",
       "      <th>4</th>\n",
       "      <td>5</td>\n",
       "      <td>0</td>\n",
       "      <td>3</td>\n",
       "      <td>Allen, Mr. William Henry</td>\n",
       "      <td>male</td>\n",
       "      <td>35.0</td>\n",
       "      <td>0</td>\n",
       "      <td>0</td>\n",
       "      <td>373450</td>\n",
       "      <td>8.0500</td>\n",
       "      <td>NaN</td>\n",
       "      <td>S</td>\n",
       "    </tr>\n",
       "  </tbody>\n",
       "</table>\n",
       "</div>"
      ],
      "text/plain": [
       "   PassengerId  Survived  Pclass  \\\n",
       "0            1         0       3   \n",
       "1            2         1       1   \n",
       "2            3         1       3   \n",
       "3            4         1       1   \n",
       "4            5         0       3   \n",
       "\n",
       "                                                Name     Sex   Age  SibSp  \\\n",
       "0                            Braund, Mr. Owen Harris    male  22.0      1   \n",
       "1  Cumings, Mrs. John Bradley (Florence Briggs Th...  female  38.0      1   \n",
       "2                             Heikkinen, Miss. Laina  female  26.0      0   \n",
       "3       Futrelle, Mrs. Jacques Heath (Lily May Peel)  female  35.0      1   \n",
       "4                           Allen, Mr. William Henry    male  35.0      0   \n",
       "\n",
       "   Parch            Ticket     Fare Cabin Embarked  \n",
       "0      0         A/5 21171   7.2500   NaN        S  \n",
       "1      0          PC 17599  71.2833   C85        C  \n",
       "2      0  STON/O2. 3101282   7.9250   NaN        S  \n",
       "3      0            113803  53.1000  C123        S  \n",
       "4      0            373450   8.0500   NaN        S  "
      ]
     },
     "execution_count": 3,
     "metadata": {},
     "output_type": "execute_result"
    }
   ],
   "source": [
    "titanic_df.head()"
   ]
  },
  {
   "cell_type": "code",
   "execution_count": 4,
   "metadata": {},
   "outputs": [
    {
     "data": {
      "text/html": [
       "<div>\n",
       "<style scoped>\n",
       "    .dataframe tbody tr th:only-of-type {\n",
       "        vertical-align: middle;\n",
       "    }\n",
       "\n",
       "    .dataframe tbody tr th {\n",
       "        vertical-align: top;\n",
       "    }\n",
       "\n",
       "    .dataframe thead th {\n",
       "        text-align: right;\n",
       "    }\n",
       "</style>\n",
       "<table border=\"1\" class=\"dataframe\">\n",
       "  <thead>\n",
       "    <tr style=\"text-align: right;\">\n",
       "      <th></th>\n",
       "      <th>PassengerId</th>\n",
       "      <th>Survived</th>\n",
       "      <th>Pclass</th>\n",
       "      <th>Name</th>\n",
       "      <th>Sex</th>\n",
       "      <th>Age</th>\n",
       "      <th>SibSp</th>\n",
       "      <th>Parch</th>\n",
       "      <th>Ticket</th>\n",
       "      <th>Fare</th>\n",
       "      <th>Cabin</th>\n",
       "      <th>Embarked</th>\n",
       "    </tr>\n",
       "  </thead>\n",
       "  <tbody>\n",
       "    <tr>\n",
       "      <th>0</th>\n",
       "      <td>1</td>\n",
       "      <td>0</td>\n",
       "      <td>3</td>\n",
       "      <td>Braund, Mr. Owen Harris</td>\n",
       "      <td>male</td>\n",
       "      <td>22.0</td>\n",
       "      <td>1</td>\n",
       "      <td>0</td>\n",
       "      <td>A/5 21171</td>\n",
       "      <td>7.2500</td>\n",
       "      <td>NaN</td>\n",
       "      <td>S</td>\n",
       "    </tr>\n",
       "    <tr>\n",
       "      <th>1</th>\n",
       "      <td>2</td>\n",
       "      <td>1</td>\n",
       "      <td>1</td>\n",
       "      <td>Cumings, Mrs. John Bradley (Florence Briggs Th...</td>\n",
       "      <td>female</td>\n",
       "      <td>38.0</td>\n",
       "      <td>1</td>\n",
       "      <td>0</td>\n",
       "      <td>PC 17599</td>\n",
       "      <td>71.2833</td>\n",
       "      <td>C85</td>\n",
       "      <td>C</td>\n",
       "    </tr>\n",
       "    <tr>\n",
       "      <th>2</th>\n",
       "      <td>3</td>\n",
       "      <td>1</td>\n",
       "      <td>3</td>\n",
       "      <td>Heikkinen, Miss. Laina</td>\n",
       "      <td>female</td>\n",
       "      <td>26.0</td>\n",
       "      <td>0</td>\n",
       "      <td>0</td>\n",
       "      <td>STON/O2. 3101282</td>\n",
       "      <td>7.9250</td>\n",
       "      <td>NaN</td>\n",
       "      <td>S</td>\n",
       "    </tr>\n",
       "    <tr>\n",
       "      <th>3</th>\n",
       "      <td>4</td>\n",
       "      <td>1</td>\n",
       "      <td>1</td>\n",
       "      <td>Futrelle, Mrs. Jacques Heath (Lily May Peel)</td>\n",
       "      <td>female</td>\n",
       "      <td>35.0</td>\n",
       "      <td>1</td>\n",
       "      <td>0</td>\n",
       "      <td>113803</td>\n",
       "      <td>53.1000</td>\n",
       "      <td>C123</td>\n",
       "      <td>S</td>\n",
       "    </tr>\n",
       "    <tr>\n",
       "      <th>4</th>\n",
       "      <td>5</td>\n",
       "      <td>0</td>\n",
       "      <td>3</td>\n",
       "      <td>Allen, Mr. William Henry</td>\n",
       "      <td>male</td>\n",
       "      <td>35.0</td>\n",
       "      <td>0</td>\n",
       "      <td>0</td>\n",
       "      <td>373450</td>\n",
       "      <td>8.0500</td>\n",
       "      <td>NaN</td>\n",
       "      <td>S</td>\n",
       "    </tr>\n",
       "    <tr>\n",
       "      <th>...</th>\n",
       "      <td>...</td>\n",
       "      <td>...</td>\n",
       "      <td>...</td>\n",
       "      <td>...</td>\n",
       "      <td>...</td>\n",
       "      <td>...</td>\n",
       "      <td>...</td>\n",
       "      <td>...</td>\n",
       "      <td>...</td>\n",
       "      <td>...</td>\n",
       "      <td>...</td>\n",
       "      <td>...</td>\n",
       "    </tr>\n",
       "    <tr>\n",
       "      <th>886</th>\n",
       "      <td>887</td>\n",
       "      <td>0</td>\n",
       "      <td>2</td>\n",
       "      <td>Montvila, Rev. Juozas</td>\n",
       "      <td>male</td>\n",
       "      <td>27.0</td>\n",
       "      <td>0</td>\n",
       "      <td>0</td>\n",
       "      <td>211536</td>\n",
       "      <td>13.0000</td>\n",
       "      <td>NaN</td>\n",
       "      <td>S</td>\n",
       "    </tr>\n",
       "    <tr>\n",
       "      <th>887</th>\n",
       "      <td>888</td>\n",
       "      <td>1</td>\n",
       "      <td>1</td>\n",
       "      <td>Graham, Miss. Margaret Edith</td>\n",
       "      <td>female</td>\n",
       "      <td>19.0</td>\n",
       "      <td>0</td>\n",
       "      <td>0</td>\n",
       "      <td>112053</td>\n",
       "      <td>30.0000</td>\n",
       "      <td>B42</td>\n",
       "      <td>S</td>\n",
       "    </tr>\n",
       "    <tr>\n",
       "      <th>888</th>\n",
       "      <td>889</td>\n",
       "      <td>0</td>\n",
       "      <td>3</td>\n",
       "      <td>Johnston, Miss. Catherine Helen \"Carrie\"</td>\n",
       "      <td>female</td>\n",
       "      <td>NaN</td>\n",
       "      <td>1</td>\n",
       "      <td>2</td>\n",
       "      <td>W./C. 6607</td>\n",
       "      <td>23.4500</td>\n",
       "      <td>NaN</td>\n",
       "      <td>S</td>\n",
       "    </tr>\n",
       "    <tr>\n",
       "      <th>889</th>\n",
       "      <td>890</td>\n",
       "      <td>1</td>\n",
       "      <td>1</td>\n",
       "      <td>Behr, Mr. Karl Howell</td>\n",
       "      <td>male</td>\n",
       "      <td>26.0</td>\n",
       "      <td>0</td>\n",
       "      <td>0</td>\n",
       "      <td>111369</td>\n",
       "      <td>30.0000</td>\n",
       "      <td>C148</td>\n",
       "      <td>C</td>\n",
       "    </tr>\n",
       "    <tr>\n",
       "      <th>890</th>\n",
       "      <td>891</td>\n",
       "      <td>0</td>\n",
       "      <td>3</td>\n",
       "      <td>Dooley, Mr. Patrick</td>\n",
       "      <td>male</td>\n",
       "      <td>32.0</td>\n",
       "      <td>0</td>\n",
       "      <td>0</td>\n",
       "      <td>370376</td>\n",
       "      <td>7.7500</td>\n",
       "      <td>NaN</td>\n",
       "      <td>Q</td>\n",
       "    </tr>\n",
       "  </tbody>\n",
       "</table>\n",
       "<p>891 rows × 12 columns</p>\n",
       "</div>"
      ],
      "text/plain": [
       "     PassengerId  Survived  Pclass  \\\n",
       "0              1         0       3   \n",
       "1              2         1       1   \n",
       "2              3         1       3   \n",
       "3              4         1       1   \n",
       "4              5         0       3   \n",
       "..           ...       ...     ...   \n",
       "886          887         0       2   \n",
       "887          888         1       1   \n",
       "888          889         0       3   \n",
       "889          890         1       1   \n",
       "890          891         0       3   \n",
       "\n",
       "                                                  Name     Sex   Age  SibSp  \\\n",
       "0                              Braund, Mr. Owen Harris    male  22.0      1   \n",
       "1    Cumings, Mrs. John Bradley (Florence Briggs Th...  female  38.0      1   \n",
       "2                               Heikkinen, Miss. Laina  female  26.0      0   \n",
       "3         Futrelle, Mrs. Jacques Heath (Lily May Peel)  female  35.0      1   \n",
       "4                             Allen, Mr. William Henry    male  35.0      0   \n",
       "..                                                 ...     ...   ...    ...   \n",
       "886                              Montvila, Rev. Juozas    male  27.0      0   \n",
       "887                       Graham, Miss. Margaret Edith  female  19.0      0   \n",
       "888           Johnston, Miss. Catherine Helen \"Carrie\"  female   NaN      1   \n",
       "889                              Behr, Mr. Karl Howell    male  26.0      0   \n",
       "890                                Dooley, Mr. Patrick    male  32.0      0   \n",
       "\n",
       "     Parch            Ticket     Fare Cabin Embarked  \n",
       "0        0         A/5 21171   7.2500   NaN        S  \n",
       "1        0          PC 17599  71.2833   C85        C  \n",
       "2        0  STON/O2. 3101282   7.9250   NaN        S  \n",
       "3        0            113803  53.1000  C123        S  \n",
       "4        0            373450   8.0500   NaN        S  \n",
       "..     ...               ...      ...   ...      ...  \n",
       "886      0            211536  13.0000   NaN        S  \n",
       "887      0            112053  30.0000   B42        S  \n",
       "888      2        W./C. 6607  23.4500   NaN        S  \n",
       "889      0            111369  30.0000  C148        C  \n",
       "890      0            370376   7.7500   NaN        Q  \n",
       "\n",
       "[891 rows x 12 columns]"
      ]
     },
     "execution_count": 4,
     "metadata": {},
     "output_type": "execute_result"
    }
   ],
   "source": [
    "#pd.set_option('display.max_rows', None) # this command will allow you to display the whole data frame\n",
    "titanic_df"
   ]
  },
  {
   "cell_type": "markdown",
   "metadata": {},
   "source": [
    "### Finding missing attribute values for the Age attribute"
   ]
  },
  {
   "cell_type": "code",
   "execution_count": 5,
   "metadata": {},
   "outputs": [
    {
     "data": {
      "text/plain": [
       "0      False\n",
       "1      False\n",
       "2      False\n",
       "3      False\n",
       "4      False\n",
       "       ...  \n",
       "886    False\n",
       "887    False\n",
       "888     True\n",
       "889    False\n",
       "890    False\n",
       "Name: Age, Length: 891, dtype: bool"
      ]
     },
     "execution_count": 5,
     "metadata": {},
     "output_type": "execute_result"
    }
   ],
   "source": [
    "titanic_df['Age'].isnull()"
   ]
  },
  {
   "cell_type": "markdown",
   "metadata": {},
   "source": [
    "### How many values of Age are missing?"
   ]
  },
  {
   "cell_type": "code",
   "execution_count": 137,
   "metadata": {},
   "outputs": [
    {
     "data": {
      "text/plain": [
       "177"
      ]
     },
     "execution_count": 137,
     "metadata": {},
     "output_type": "execute_result"
    }
   ],
   "source": [
    "sum(titanic_df['Age'].isnull() == True)"
   ]
  },
  {
   "cell_type": "code",
   "execution_count": 138,
   "metadata": {},
   "outputs": [
    {
     "name": "stdout",
     "output_type": "stream",
     "text": [
      "24\n"
     ]
    }
   ],
   "source": [
    "from scipy import stats\n",
    "\n",
    "most_freq_age, count = stats.mode(titanic_df['Age'])\n",
    "\n",
    "age_mode = int(most_freq_age) # which age occurs most frequently in the dataset\n",
    "print(age_mode)"
   ]
  },
  {
   "cell_type": "markdown",
   "metadata": {},
   "source": [
    "### Create a new column for Age where we will be filling the missing values"
   ]
  },
  {
   "cell_type": "code",
   "execution_count": 6,
   "metadata": {},
   "outputs": [],
   "source": [
    "# Creating copy for part 2:\n",
    "titanic_df2 = titanic_df.copy()\n",
    "\n",
    "titanic_df['Age_repl1'] = titanic_df['Age']"
   ]
  },
  {
   "cell_type": "code",
   "execution_count": 106,
   "metadata": {},
   "outputs": [],
   "source": [
    "titanic_df['Age_repl1'].replace(np.nan, age_mode, inplace=True)"
   ]
  },
  {
   "cell_type": "code",
   "execution_count": 153,
   "metadata": {},
   "outputs": [
    {
     "data": {
      "text/plain": [
       "count    714.000000\n",
       "mean      29.699118\n",
       "std       14.526497\n",
       "min        0.420000\n",
       "25%       20.125000\n",
       "50%       28.000000\n",
       "75%       38.000000\n",
       "max       80.000000\n",
       "Name: Age, dtype: float64"
      ]
     },
     "execution_count": 153,
     "metadata": {},
     "output_type": "execute_result"
    }
   ],
   "source": [
    "titanic_df['Age'].describe()"
   ]
  },
  {
   "cell_type": "code",
   "execution_count": 108,
   "metadata": {},
   "outputs": [
    {
     "data": {
      "text/plain": [
       "count    891.000000\n",
       "mean      28.566970\n",
       "std       13.199572\n",
       "min        0.420000\n",
       "25%       22.000000\n",
       "50%       24.000000\n",
       "75%       35.000000\n",
       "max       80.000000\n",
       "Name: Age_repl1, dtype: float64"
      ]
     },
     "execution_count": 108,
     "metadata": {},
     "output_type": "execute_result"
    }
   ],
   "source": [
    "titanic_df['Age_repl1'].describe()"
   ]
  },
  {
   "cell_type": "markdown",
   "metadata": {},
   "source": [
    "# Group In-Class & Homework Assignment with individual submission\n",
    "\n",
    "## Part 1: Create a table that shows how different replacement strategies affect dataset properties\n",
    "\n",
    "* Experiment with 5 replacement strategies\n",
    "* Dataset properties can be described in terms of basic statistics such as mean, median, mode, standard deviation of the Age column \n",
    "* Which of the replacement strategies works best in terms of preserving overall dataset properties?\n",
    "\n",
    "## Part 2: Evaluate subsets of the data to evaluate whether the replacement affects the properties of particular passenger types (e.g., does replacement distort the estimates for some passenger types more than others):\n",
    "* Identify 2-4 passenger types that you want to look at\n",
    "* Use your favorite replacement strategy (which performed well in Part 1)\n",
    "* Investigate whether this strategy affects the passenger types differently\n",
    "* Summarize your findings"
   ]
  },
  {
   "cell_type": "code",
   "execution_count": 109,
   "metadata": {},
   "outputs": [],
   "source": []
  },
  {
   "cell_type": "markdown",
   "metadata": {},
   "source": [
    "# Part 1:"
   ]
  },
  {
   "cell_type": "code",
   "execution_count": 40,
   "metadata": {},
   "outputs": [
    {
     "name": "stdout",
     "output_type": "stream",
     "text": [
      "count    1.770000e+02\n",
      "mean    -5.684342e-14\n",
      "std     -1.524482e+00\n",
      "min      0.000000e+00\n",
      "25%      1.875000e+00\n",
      "50%      1.699118e+00\n",
      "75%     -3.000000e+00\n",
      "max      0.000000e+00\n",
      "dtype: float64\n"
     ]
    }
   ],
   "source": [
    "# Replacement strategy 1: Use the mean age\n",
    "titanic_df['Age_repl2'] = titanic_df['Age']\n",
    "age_mean = titanic_df.mean()\n",
    "titanic_df['Age_repl2'].replace(np.nan, age_mean[\"Age\"], inplace=True)\n",
    "print(titanic_df['Age_repl2'].describe() - titanic_df['Age'].describe())"
   ]
  },
  {
   "cell_type": "code",
   "execution_count": 41,
   "metadata": {},
   "outputs": [
    {
     "name": "stdout",
     "output_type": "stream",
     "text": [
      "count    177.000000\n",
      "mean      -0.257849\n",
      "std       -1.507750\n",
      "min        0.000000\n",
      "25%        1.875000\n",
      "50%        1.000000\n",
      "75%       -3.000000\n",
      "max        0.000000\n",
      "dtype: float64\n"
     ]
    }
   ],
   "source": [
    "# Replacement strategy 2: Group by sex and get medians per category\n",
    "titanic_df['Age_repl3'] = titanic_df['Age']\n",
    "medians = titanic_df.groupby(\"Sex\").median()\n",
    "titanic_df.loc[ (titanic_df[\"Sex\"] == \"male\") & (titanic_df[\"Age_repl3\"].isnull()), 'Age_repl3'] = medians[\"Age\"][1]\n",
    "titanic_df.loc[ (titanic_df[\"Sex\"] == \"female\") & (titanic_df[\"Age_repl3\"].isnull()), 'Age_repl3'] = medians[\"Age\"][0]\n",
    "print(titanic_df['Age_repl3'].describe() - titanic_df['Age'].describe())"
   ]
  },
  {
   "cell_type": "code",
   "execution_count": 42,
   "metadata": {},
   "outputs": [
    {
     "name": "stdout",
     "output_type": "stream",
     "text": [
      "count    177.000000\n",
      "mean       0.036917\n",
      "std       -1.511600\n",
      "min        0.000000\n",
      "25%        1.875000\n",
      "50%        2.000000\n",
      "75%       -3.000000\n",
      "max        0.000000\n",
      "dtype: float64\n"
     ]
    }
   ],
   "source": [
    "# Replacement strategy 3: Group by sex and get means per category\n",
    "titanic_df['Age_repl4'] = titanic_df['Age']\n",
    "means = titanic_df.groupby(\"Sex\").mean()\n",
    "titanic_df.loc[ (titanic_df[\"Sex\"] == \"male\") & (titanic_df[\"Age_repl4\"].isnull()), 'Age_repl4'] = means[\"Age\"][1]\n",
    "titanic_df.loc[ (titanic_df[\"Sex\"] == \"female\") & (titanic_df[\"Age_repl4\"].isnull()), 'Age_repl4'] = means[\"Age\"][0]\n",
    "print(titanic_df['Age_repl4'].describe() - titanic_df['Age'].describe())"
   ]
  },
  {
   "cell_type": "code",
   "execution_count": 43,
   "metadata": {},
   "outputs": [
    {
     "name": "stdout",
     "output_type": "stream",
     "text": [
      "count    177.000000\n",
      "mean      -1.132148\n",
      "std       -1.326926\n",
      "min        0.000000\n",
      "25%        1.875000\n",
      "50%       -4.000000\n",
      "75%       -3.000000\n",
      "max        0.000000\n",
      "dtype: float64\n"
     ]
    }
   ],
   "source": [
    "# Replacement strategy 4: Replace with most frequent value in Age column\n",
    "titanic_df['Age_repl5'] = titanic_df['Age']\n",
    "age_freq = titanic_df['Age'].value_counts().index[0]\n",
    "titanic_df['Age_repl5'].replace(np.nan, age_freq, inplace=True)\n",
    "print(titanic_df['Age_repl5'].describe() - titanic_df['Age'].describe())"
   ]
  },
  {
   "cell_type": "code",
   "execution_count": 44,
   "metadata": {},
   "outputs": [
    {
     "name": "stdout",
     "output_type": "stream",
     "text": [
      "count    177.000000\n",
      "mean      -0.337535\n",
      "std       -1.506801\n",
      "min        0.000000\n",
      "25%        1.875000\n",
      "50%        0.000000\n",
      "75%       -3.000000\n",
      "max        0.000000\n",
      "dtype: float64\n"
     ]
    }
   ],
   "source": [
    "# Replacement strategy 5: Replace with constant value\n",
    "# Note that we can play with actual constant value and compare to original age info until similarity is reached (if any)\n",
    "titanic_df['Age_repl6'] = titanic_df['Age']\n",
    "titanic_df['Age_repl6'].replace(np.nan, 28, inplace=True)\n",
    "print(titanic_df['Age_repl6'].describe() - titanic_df['Age'].describe())"
   ]
  },
  {
   "cell_type": "code",
   "execution_count": 45,
   "metadata": {},
   "outputs": [
    {
     "data": {
      "text/html": [
       "<div>\n",
       "<style scoped>\n",
       "    .dataframe tbody tr th:only-of-type {\n",
       "        vertical-align: middle;\n",
       "    }\n",
       "\n",
       "    .dataframe tbody tr th {\n",
       "        vertical-align: top;\n",
       "    }\n",
       "\n",
       "    .dataframe thead th {\n",
       "        text-align: right;\n",
       "    }\n",
       "</style>\n",
       "<table border=\"1\" class=\"dataframe\">\n",
       "  <thead>\n",
       "    <tr style=\"text-align: right;\">\n",
       "      <th></th>\n",
       "      <th>Original Age Info</th>\n",
       "      <th>Mean Age</th>\n",
       "      <th>Median per Sex</th>\n",
       "      <th>Mean per Sex</th>\n",
       "      <th>Most Frequent Age</th>\n",
       "      <th>Constant Value</th>\n",
       "    </tr>\n",
       "  </thead>\n",
       "  <tbody>\n",
       "    <tr>\n",
       "      <th>count</th>\n",
       "      <td>714.000000</td>\n",
       "      <td>891.000000</td>\n",
       "      <td>891.000000</td>\n",
       "      <td>891.000000</td>\n",
       "      <td>891.000000</td>\n",
       "      <td>891.000000</td>\n",
       "    </tr>\n",
       "    <tr>\n",
       "      <th>mean</th>\n",
       "      <td>29.699118</td>\n",
       "      <td>29.699118</td>\n",
       "      <td>29.441268</td>\n",
       "      <td>29.736034</td>\n",
       "      <td>28.566970</td>\n",
       "      <td>29.361582</td>\n",
       "    </tr>\n",
       "    <tr>\n",
       "      <th>std</th>\n",
       "      <td>14.526497</td>\n",
       "      <td>13.002015</td>\n",
       "      <td>13.018747</td>\n",
       "      <td>13.014897</td>\n",
       "      <td>13.199572</td>\n",
       "      <td>13.019697</td>\n",
       "    </tr>\n",
       "    <tr>\n",
       "      <th>min</th>\n",
       "      <td>0.420000</td>\n",
       "      <td>0.420000</td>\n",
       "      <td>0.420000</td>\n",
       "      <td>0.420000</td>\n",
       "      <td>0.420000</td>\n",
       "      <td>0.420000</td>\n",
       "    </tr>\n",
       "    <tr>\n",
       "      <th>25%</th>\n",
       "      <td>20.125000</td>\n",
       "      <td>22.000000</td>\n",
       "      <td>22.000000</td>\n",
       "      <td>22.000000</td>\n",
       "      <td>22.000000</td>\n",
       "      <td>22.000000</td>\n",
       "    </tr>\n",
       "    <tr>\n",
       "      <th>50%</th>\n",
       "      <td>28.000000</td>\n",
       "      <td>29.699118</td>\n",
       "      <td>29.000000</td>\n",
       "      <td>30.000000</td>\n",
       "      <td>24.000000</td>\n",
       "      <td>28.000000</td>\n",
       "    </tr>\n",
       "    <tr>\n",
       "      <th>75%</th>\n",
       "      <td>38.000000</td>\n",
       "      <td>35.000000</td>\n",
       "      <td>35.000000</td>\n",
       "      <td>35.000000</td>\n",
       "      <td>35.000000</td>\n",
       "      <td>35.000000</td>\n",
       "    </tr>\n",
       "    <tr>\n",
       "      <th>max</th>\n",
       "      <td>80.000000</td>\n",
       "      <td>80.000000</td>\n",
       "      <td>80.000000</td>\n",
       "      <td>80.000000</td>\n",
       "      <td>80.000000</td>\n",
       "      <td>80.000000</td>\n",
       "    </tr>\n",
       "  </tbody>\n",
       "</table>\n",
       "</div>"
      ],
      "text/plain": [
       "       Original Age Info    Mean Age  Median per Sex  Mean per Sex  \\\n",
       "count         714.000000  891.000000      891.000000    891.000000   \n",
       "mean           29.699118   29.699118       29.441268     29.736034   \n",
       "std            14.526497   13.002015       13.018747     13.014897   \n",
       "min             0.420000    0.420000        0.420000      0.420000   \n",
       "25%            20.125000   22.000000       22.000000     22.000000   \n",
       "50%            28.000000   29.699118       29.000000     30.000000   \n",
       "75%            38.000000   35.000000       35.000000     35.000000   \n",
       "max            80.000000   80.000000       80.000000     80.000000   \n",
       "\n",
       "       Most Frequent Age  Constant Value  \n",
       "count         891.000000      891.000000  \n",
       "mean           28.566970       29.361582  \n",
       "std            13.199572       13.019697  \n",
       "min             0.420000        0.420000  \n",
       "25%            22.000000       22.000000  \n",
       "50%            24.000000       28.000000  \n",
       "75%            35.000000       35.000000  \n",
       "max            80.000000       80.000000  "
      ]
     },
     "execution_count": 45,
     "metadata": {},
     "output_type": "execute_result"
    }
   ],
   "source": [
    "# Final table of all\n",
    "\n",
    "part_1_dict = {\"Original Age Info\": titanic_df['Age'].describe(), \"Mean Age\": titanic_df['Age_repl2'].describe(),\n",
    "              \"Median per Sex\": titanic_df['Age_repl3'].describe(), \"Mean per Sex\": titanic_df['Age_repl4'].describe(),\n",
    "              \"Most Frequent Age\": titanic_df['Age_repl5'].describe(), \"Constant Value\": titanic_df['Age_repl6'].describe()}\n",
    "part1_df = pd.DataFrame(data=part_1_dict)\n",
    "part1_df"
   ]
  },
  {
   "cell_type": "markdown",
   "metadata": {},
   "source": [
    "## Which strategy performs best?\n",
    "When compared to original Age column, both the median and mean of individual sexes yield good results. I will use the mean strategy for part 2"
   ]
  },
  {
   "cell_type": "markdown",
   "metadata": {},
   "source": [
    "# Part 2:"
   ]
  },
  {
   "cell_type": "code",
   "execution_count": 46,
   "metadata": {},
   "outputs": [
    {
     "name": "stdout",
     "output_type": "stream",
     "text": [
      "Average age:  28.343689655172415 \n",
      " Average fare:  34.69451400560218 \n",
      " Most common Pclass:  3.0\n"
     ]
    },
    {
     "data": {
      "image/png": "[encoded data removed]",
      "text/plain": [
       "<Figure size 432x288 with 1 Axes>"
      ]
     },
     "metadata": {
      "needs_background": "light"
     },
     "output_type": "display_data"
    },
    {
     "data": {
      "image/png": "[encoded data removed]",
      "text/plain": [
       "<Figure size 432x288 with 1 Axes>"
      ]
     },
     "metadata": {
      "needs_background": "light"
     },
     "output_type": "display_data"
    },
    {
     "data": {
      "image/png": "[encoded data removed]",
      "text/plain": [
       "<Figure size 432x288 with 1 Axes>"
      ]
     },
     "metadata": {
      "needs_background": "light"
     },
     "output_type": "display_data"
    }
   ],
   "source": [
    "# Passenger types I will focus on are Survival, Pclass, and Fare with respect to Age:\n",
    "\n",
    "# Getting the average age of those that survived\n",
    "average_survival_age = titanic_df2.dropna(subset=[\"Age\"]).groupby(\"Survived\").mean()[\"Age\"][1]\n",
    "\n",
    "# Getting the average Fare price of those that have an Age indicated\n",
    "average_fare_price = titanic_df2.dropna(subset=[\"Age\"]).mean()[6]\n",
    "\n",
    "# Getting the Mode Pclass of those that have an Age indicated\n",
    "mode_pclass = titanic_df2.dropna(subset=[\"Age\"]).mode()[\"Pclass\"][0]\n",
    "print(\"Average age: \",average_survival_age,\"\\n\", \"Average fare: \",average_fare_price,\"\\n\",\"Most common Pclass: \",mode_pclass)\n",
    "\n",
    "# Also, plotting each column against Age. Dropping rows with no Age so that can get accurate representation pre-imputation\n",
    "import matplotlib.pyplot as plt\n",
    "plt.figure()\n",
    "x = titanic_df2.dropna(subset=[\"Age\"])[\"Age\"]\n",
    "y1 = titanic_df2.dropna(subset=[\"Age\"])[\"Survived\"]\n",
    "y2 = titanic_df.dropna(subset=[\"Age\"])[\"Fare\"]\n",
    "y3 = titanic_df.dropna(subset=[\"Age\"])[\"Pclass\"]\n",
    "plt.plot(x,y1, '.')\n",
    "plt.show()\n",
    "plt.plot(x,y2, '.')\n",
    "plt.show()\n",
    "plt.plot(x,y3, '.')\n",
    "plt.show()"
   ]
  },
  {
   "cell_type": "code",
   "execution_count": 47,
   "metadata": {},
   "outputs": [],
   "source": [
    "# Using Mean of each Sex strategy:\n",
    "titanic_df2['Replaced_Age'] = titanic_df2['Age']\n",
    "means = titanic_df2.groupby(\"Sex\").mean()\n",
    "titanic_df2.loc[ (titanic_df2[\"Sex\"] == \"male\") & (titanic_df2[\"Replaced_Age\"].isnull()), 'Replaced_Age'] = means[\"Age\"][1]\n",
    "titanic_df2.loc[ (titanic_df2[\"Sex\"] == \"female\") & (titanic_df2[\"Replaced_Age\"].isnull()), 'Replaced_Age'] = means[\"Age\"][0]"
   ]
  },
  {
   "cell_type": "code",
   "execution_count": 48,
   "metadata": {},
   "outputs": [
    {
     "name": "stdout",
     "output_type": "stream",
     "text": [
      "Average age:  28.410122312009246 \n",
      " Average fare:  32.2042079685746 \n",
      " Most common Pclass:  3.0\n"
     ]
    },
    {
     "data": {
      "image/png": "[encoded data removed]",
      "text/plain": [
       "<Figure size 432x288 with 1 Axes>"
      ]
     },
     "metadata": {
      "needs_background": "light"
     },
     "output_type": "display_data"
    },
    {
     "data": {
      "image/png": "[encoded data removed]",
      "text/plain": [
       "<Figure size 432x288 with 1 Axes>"
      ]
     },
     "metadata": {
      "needs_background": "light"
     },
     "output_type": "display_data"
    },
    {
     "data": {
      "image/png": "[encoded data removed]",
      "text/plain": [
       "<Figure size 432x288 with 1 Axes>"
      ]
     },
     "metadata": {
      "needs_background": "light"
     },
     "output_type": "display_data"
    }
   ],
   "source": [
    "# Getting the averages again but with the replacement age included\n",
    "new_average_survival_age = titanic_df2.groupby(\"Survived\").mean()[\"Replaced_Age\"][1]\n",
    "new_average_fare_price = titanic_df2.mean()[6]\n",
    "new_mode_pclass = titanic_df2.mode()[\"Pclass\"][0]\n",
    "\n",
    "print(\"Average age: \",new_average_survival_age,\"\\n\", \"Average fare: \",\n",
    "      new_average_fare_price,\"\\n\",\"Most common Pclass: \",new_mode_pclass)\n",
    "\n",
    "# And plotting the graphs again with new Age data included\n",
    "plt.figure()\n",
    "x = titanic_df2[\"Age\"]\n",
    "y21 = titanic_df2[\"Survived\"]\n",
    "y22 = titanic_df[\"Fare\"]\n",
    "y23 = titanic_df[\"Pclass\"]\n",
    "plt.plot(x,y21, '.')\n",
    "plt.show()\n",
    "plt.plot(x,y22, '.')\n",
    "plt.show()\n",
    "plt.plot(x,y23, '.')\n",
    "plt.show()"
   ]
  },
  {
   "cell_type": "markdown",
   "metadata": {},
   "source": [
    "## Findings\n",
    "The average age of survival is minimally affected by introducing a replacement age. The same goes for the Mode Pclass on the ship. The average fare price is affected a little more, however. I would say that passenger types with larger variations in data values are more heavily affected when including an imputed value."
   ]
  },
  {
   "cell_type": "markdown",
   "metadata": {},
   "source": [
    "# Submission Instructions\n",
    "\n",
    "Individual submission for the Missing Data Assignment on Canvas."
   ]
  },
  {
   "cell_type": "code",
   "execution_count": null,
   "metadata": {},
   "outputs": [],
   "source": []
  }
 ],
 "metadata": {
  "kernelspec": {
   "display_name": "Python 3",
   "language": "python",
   "name": "python3"
  },
  "language_info": {
   "codemirror_mode": {
    "name": "ipython",
    "version": 3
   },
   "file_extension": ".py",
   "mimetype": "text/x-python",
   "name": "python",
   "nbconvert_exporter": "python",
   "pygments_lexer": "ipython3",
   "version": "3.8.3"
  }
 },
 "nbformat": 4,
 "nbformat_minor": 4
}
