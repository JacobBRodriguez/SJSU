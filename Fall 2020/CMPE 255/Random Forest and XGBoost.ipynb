{
 "cells": [
  {
   "cell_type": "code",
   "execution_count": 9,
   "metadata": {},
   "outputs": [],
   "source": [
    "from sklearn.ensemble import RandomForestClassifier\n",
    "from sklearn.ensemble import GradientBoostingClassifier\n",
    "from sklearn import datasets\n",
    "import sklearn\n",
    "from sklearn.model_selection import train_test_split\n",
    "from sklearn.model_selection import GridSearchCV\n",
    "from sklearn.model_selection import RandomizedSearchCV\n",
    "import time\n",
    "# Creating RandomForest Classifier\n",
    "clf = RandomForestClassifier()\n",
    "\n",
    "# Loading the Digits dataset\n",
    "digits = datasets.load_digits()"
   ]
  },
  {
   "cell_type": "markdown",
   "metadata": {},
   "source": [
    "### GridSearch Random Forest"
   ]
  },
  {
   "cell_type": "code",
   "execution_count": 6,
   "metadata": {},
   "outputs": [
    {
     "name": "stdout",
     "output_type": "stream",
     "text": [
      "Best parameter settings for RF:  {'bootstrap': False, 'max_features': 3, 'n_estimators': 500}\n"
     ]
    }
   ],
   "source": [
    "param_grid = {'bootstrap': [True, False], 'n_estimators': [10,50,100,200,500],'max_features': [1,2,3,4,5,6,7,8]}\n",
    "\n",
    "clf_grid = GridSearchCV(estimator=clf, param_grid=param_grid, scoring=sklearn.metrics.make_scorer(sklearn.metrics.f1_score, average = 'macro'))\n",
    "\n",
    "start_time_grid = time.time()\n",
    "clf_grid.fit(digits.data, digits.target)\n",
    "end_time_grid = time.time()\n",
    "\n",
    "print(\"Best parameter settings for RF: \",clf_grid.best_params_)"
   ]
  },
  {
   "cell_type": "markdown",
   "metadata": {},
   "source": [
    "### GridSearch XGBoost"
   ]
  },
  {
   "cell_type": "code",
   "execution_count": 10,
   "metadata": {},
   "outputs": [
    {
     "name": "stdout",
     "output_type": "stream",
     "text": [
      "Best parameter settings for Gradient Boosting:  {'learning_rate': 0.2, 'max_depth': 2, 'n_estimators': 500}\n"
     ]
    }
   ],
   "source": [
    "clf_x = GradientBoostingClassifier()\n",
    "\n",
    "param_grid = {'learning_rate': [0.1, 0.2, 1], 'n_estimators': [10,50,100,200,500],'max_depth': [1,2,3]}\n",
    "\n",
    "clf_grid_xg = GridSearchCV(estimator=clf_x, param_grid=param_grid, scoring=sklearn.metrics.make_scorer(sklearn.metrics.f1_score, average = 'macro'))\n",
    "\n",
    "start_time_grid_xg = time.time()\n",
    "clf_grid_xg.fit(digits.data, digits.target)\n",
    "end_time_grid_xg = time.time()\n",
    "\n",
    "print(\"Best parameter settings for Gradient Boosting: \",clf_grid_xg.best_params_)"
   ]
  },
  {
   "cell_type": "markdown",
   "metadata": {},
   "source": [
    "### RandomizedSearch Random Forest"
   ]
  },
  {
   "cell_type": "code",
   "execution_count": 11,
   "metadata": {},
   "outputs": [
    {
     "name": "stdout",
     "output_type": "stream",
     "text": [
      "Best parameter settings for RF:  {'n_estimators': 100, 'max_features': 2, 'bootstrap': False}\n"
     ]
    }
   ],
   "source": [
    "param_grid = {'bootstrap': [True, False], 'n_estimators': [10,50,100,200,500],'max_features': [1,2,3,4,5,6,7,8]}\n",
    "\n",
    "clf_random = RandomizedSearchCV(estimator=clf,param_distributions=param_grid, scoring=sklearn.metrics.make_scorer(sklearn.metrics.f1_score, average = 'macro'))\n",
    "\n",
    "start_time_random = time.time()\n",
    "clf_random.fit(digits.data, digits.target)\n",
    "end_time_random = time.time()\n",
    "\n",
    "print(\"Best parameter settings for RF: \",clf_random.best_params_)"
   ]
  },
  {
   "cell_type": "markdown",
   "metadata": {},
   "source": [
    "### RandomizedSearch XGBoost"
   ]
  },
  {
   "cell_type": "code",
   "execution_count": 12,
   "metadata": {},
   "outputs": [
    {
     "name": "stdout",
     "output_type": "stream",
     "text": [
      "Best parameter settings for Gradient Boosting:  {'n_estimators': 500, 'max_depth': 2, 'learning_rate': 0.2}\n"
     ]
    }
   ],
   "source": [
    "param_grid = {'learning_rate': [0.1, 0.2, 1], 'n_estimators': [10,50,100,200,500],'max_depth': [1,2,3]}\n",
    "\n",
    "clf_rand_xg = RandomizedSearchCV(estimator=clf_x,param_distributions=param_grid, scoring=sklearn.metrics.make_scorer(sklearn.metrics.f1_score, average = 'macro'))\n",
    "\n",
    "start_time_grid_xg_rand = time.time()\n",
    "clf_rand_xg.fit(digits.data, digits.target)\n",
    "end_time_grid_xg_rand = time.time()\n",
    "\n",
    "print(\"Best parameter settings for Gradient Boosting: \",clf_rand_xg.best_params_)"
   ]
  },
  {
   "cell_type": "markdown",
   "metadata": {},
   "source": [
    "### Time comparisions"
   ]
  },
  {
   "cell_type": "code",
   "execution_count": 15,
   "metadata": {},
   "outputs": [
    {
     "name": "stdout",
     "output_type": "stream",
     "text": [
      "GridSearch RF time:  153.96263718605042\n",
      "GridSearch XG time:  1343.6701998710632\n",
      "RandomizedSearch RF time:  5.196333885192871\n",
      "RandomizedSearch XG time:  404.846200466156\n"
     ]
    }
   ],
   "source": [
    "print(\"GridSearch RF time: \",end_time_grid-start_time_grid)\n",
    "print(\"GridSearch XG time: \",end_time_grid_xg-start_time_grid_xg)\n",
    "print(\"RandomizedSearch RF time: \", end_time_random-start_time_random)\n",
    "print(\"RandomizedSearch XG time: \", end_time_grid_xg_rand-start_time_grid_xg_rand)"
   ]
  },
  {
   "cell_type": "code",
   "execution_count": null,
   "metadata": {},
   "outputs": [],
   "source": []
  }
 ],
 "metadata": {
  "kernelspec": {
   "display_name": "Python 3",
   "language": "python",
   "name": "python3"
  },
  "language_info": {
   "codemirror_mode": {
    "name": "ipython",
    "version": 3
   },
   "file_extension": ".py",
   "mimetype": "text/x-python",
   "name": "python",
   "nbconvert_exporter": "python",
   "pygments_lexer": "ipython3",
   "version": "3.8.3"
  }
 },
 "nbformat": 4,
 "nbformat_minor": 4
}
