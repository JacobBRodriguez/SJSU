{
 "cells": [
  {
   "cell_type": "markdown",
   "metadata": {},
   "source": [
    "### 1. Load dataset from csv file - 1 point\n",
    "\n",
    "Note: Please load the dataset from the URL as shown in the demo "
   ]
  },
  {
   "cell_type": "code",
   "execution_count": 7,
   "metadata": {},
   "outputs": [
    {
     "name": "stdout",
     "output_type": "stream",
     "text": [
      "                  Republicans in Senate  (Since 1959)\n",
      "0                                                Year\n",
      "1                                            Number  \n",
      "2                          Yr   Republicans_in_Senate\n",
      "3                                         1960 36\\t\\t\n",
      "4                                         1962 34\\t\\t\n",
      "..                                                ...\n",
      "78                   Data sources:\\t\\t\\t\\t\\t\\t\\t\\t   \n",
      "79  ftp://ftp.ngdc.noaa.gov/STP/SOLAR_DATA/SUNSPOT...\n",
      "80  http://www.senate.gov/pagelayout/history/one_i...\n",
      "81                                            Notes: \n",
      "82  Data are biennial (year of election) and don't...\n",
      "\n",
      "[83 rows x 1 columns]\n"
     ]
    }
   ],
   "source": [
    "# Import needed libraries to get data from URL and load into Pandas DF\n",
    "import os\n",
    "import tarfile\n",
    "import urllib\n",
    "import pandas as pd\n",
    "\n",
    "# Define url and OS path that I want to save csv data under\n",
    "DATA_URL = \"http://www.realclimate.org/data/senators_sunspots.txt\"\n",
    "DATA_PATH = os.path.join(\"/Users/Do-While/Desktop/SJSU/Classes/SJSU/Fall 2020\", \"DataSets\")\n",
    "\n",
    "# Function to get data from URL and return it as Pandas dataframe\n",
    "def fetch_and_load_from_url(data_url, data_path):\n",
    "    \n",
    "    # If no data path exists, create directory\n",
    "    if not os.path.isdir(DATA_PATH):\n",
    "        os.makedirs(DATA_PATH)\n",
    "    # create text document path under OS path\n",
    "    txt_path = os.path.join(DATA_PATH, \"hw2_data.txt\")\n",
    "    # Using URL, request data and return to created path\n",
    "    urllib.request.urlretrieve(DATA_URL, txt_path)\n",
    "    # Read in text file, convert csv to pandas df and return upon close of file\n",
    "    with open(txt_path, \"r\") as file:\n",
    "        return pd.read_csv(file)\n",
    "    \n",
    "hwDataSet = fetch_and_load_from_url(DATA_URL, DATA_PATH)\n",
    "print(hwDataSet)"
   ]
  },
  {
   "cell_type": "markdown",
   "metadata": {},
   "source": [
    "### 2. Remove the header which is 0th row - 0.5 points"
   ]
  },
  {
   "cell_type": "code",
   "execution_count": 15,
   "metadata": {},
   "outputs": [
    {
     "data": {
      "text/html": [
       "<div>\n",
       "<style scoped>\n",
       "    .dataframe tbody tr th:only-of-type {\n",
       "        vertical-align: middle;\n",
       "    }\n",
       "\n",
       "    .dataframe tbody tr th {\n",
       "        vertical-align: top;\n",
       "    }\n",
       "\n",
       "    .dataframe thead th {\n",
       "        text-align: right;\n",
       "    }\n",
       "</style>\n",
       "<table border=\"1\" class=\"dataframe\">\n",
       "  <thead>\n",
       "    <tr style=\"text-align: right;\">\n",
       "      <th></th>\n",
       "      <th>Year</th>\n",
       "    </tr>\n",
       "  </thead>\n",
       "  <tbody>\n",
       "    <tr>\n",
       "      <th>1</th>\n",
       "      <td>Number</td>\n",
       "    </tr>\n",
       "    <tr>\n",
       "      <th>2</th>\n",
       "      <td>Yr   Republicans_in_Senate</td>\n",
       "    </tr>\n",
       "    <tr>\n",
       "      <th>3</th>\n",
       "      <td>1960 36\\t\\t</td>\n",
       "    </tr>\n",
       "    <tr>\n",
       "      <th>4</th>\n",
       "      <td>1962 34\\t\\t</td>\n",
       "    </tr>\n",
       "    <tr>\n",
       "      <th>5</th>\n",
       "      <td>1964 32\\t\\t</td>\n",
       "    </tr>\n",
       "    <tr>\n",
       "      <th>...</th>\n",
       "      <td>...</td>\n",
       "    </tr>\n",
       "    <tr>\n",
       "      <th>78</th>\n",
       "      <td>Data sources:\\t\\t\\t\\t\\t\\t\\t\\t</td>\n",
       "    </tr>\n",
       "    <tr>\n",
       "      <th>79</th>\n",
       "      <td>ftp://ftp.ngdc.noaa.gov/STP/SOLAR_DATA/SUNSPOT...</td>\n",
       "    </tr>\n",
       "    <tr>\n",
       "      <th>80</th>\n",
       "      <td>http://www.senate.gov/pagelayout/history/one_i...</td>\n",
       "    </tr>\n",
       "    <tr>\n",
       "      <th>81</th>\n",
       "      <td>Notes:</td>\n",
       "    </tr>\n",
       "    <tr>\n",
       "      <th>82</th>\n",
       "      <td>Data are biennial (year of election) and don't...</td>\n",
       "    </tr>\n",
       "  </tbody>\n",
       "</table>\n",
       "<p>82 rows × 1 columns</p>\n",
       "</div>"
      ],
      "text/plain": [
       "0                                                Year\n",
       "1                                            Number  \n",
       "2                          Yr   Republicans_in_Senate\n",
       "3                                         1960 36\\t\\t\n",
       "4                                         1962 34\\t\\t\n",
       "5                                         1964 32\\t\\t\n",
       "..                                                ...\n",
       "78                   Data sources:\\t\\t\\t\\t\\t\\t\\t\\t   \n",
       "79  ftp://ftp.ngdc.noaa.gov/STP/SOLAR_DATA/SUNSPOT...\n",
       "80  http://www.senate.gov/pagelayout/history/one_i...\n",
       "81                                            Notes: \n",
       "82  Data are biennial (year of election) and don't...\n",
       "\n",
       "[82 rows x 1 columns]"
      ]
     },
     "execution_count": 15,
     "metadata": {},
     "output_type": "execute_result"
    }
   ],
   "source": [
    "# Grab row 1 from df\n",
    "new_columns = hwDataSet.iloc[0]\n",
    "# Get the data that is minus the header row\n",
    "hwDataSet = hwDataSet[1:]\n",
    "# Set the new header row as the df header\n",
    "hwDataSet.columns = new_columns\n",
    "hwDataSet\n"
   ]
  },
  {
   "cell_type": "markdown",
   "metadata": {},
   "source": [
    "### 3. Split the dataset into 70:30 training set and test set (non-repetitive random selection) - 2 points"
   ]
  },
  {
   "cell_type": "code",
   "execution_count": 21,
   "metadata": {},
   "outputs": [
    {
     "data": {
      "text/html": [
       "<div>\n",
       "<style scoped>\n",
       "    .dataframe tbody tr th:only-of-type {\n",
       "        vertical-align: middle;\n",
       "    }\n",
       "\n",
       "    .dataframe tbody tr th {\n",
       "        vertical-align: top;\n",
       "    }\n",
       "\n",
       "    .dataframe thead th {\n",
       "        text-align: right;\n",
       "    }\n",
       "</style>\n",
       "<table border=\"1\" class=\"dataframe\">\n",
       "  <thead>\n",
       "    <tr style=\"text-align: right;\">\n",
       "      <th></th>\n",
       "      <th>Year</th>\n",
       "    </tr>\n",
       "  </thead>\n",
       "  <tbody>\n",
       "    <tr>\n",
       "      <th>40</th>\n",
       "      <td>1969 105.5</td>\n",
       "    </tr>\n",
       "    <tr>\n",
       "      <th>57</th>\n",
       "      <td>1986  13.4</td>\n",
       "    </tr>\n",
       "    <tr>\n",
       "      <th>78</th>\n",
       "      <td>Data sources:\\t\\t\\t\\t\\t\\t\\t\\t</td>\n",
       "    </tr>\n",
       "  </tbody>\n",
       "</table>\n",
       "</div>"
      ],
      "text/plain": [
       "0                               Year\n",
       "40                       1969 105.5 \n",
       "57                      1986  13.4  \n",
       "78  Data sources:\\t\\t\\t\\t\\t\\t\\t\\t   "
      ]
     },
     "execution_count": 21,
     "metadata": {},
     "output_type": "execute_result"
    }
   ],
   "source": [
    "# Using sample function for DF to be split. Will divide into\n",
    "from sklearn.utils import shuffle\n",
    "\n",
    "\n",
    "shuffled_df = shuffle(hwDataSet)\n",
    "\n",
    "training_set = shuffled_df[0:7]\n",
    "test_set = shuffled_df[7:10]\n",
    "training_set\n",
    "test_set"
   ]
  },
  {
   "cell_type": "markdown",
   "metadata": {},
   "source": [
    "### 4. Plot each feature against the target in the training set - 1 point"
   ]
  },
  {
   "cell_type": "code",
   "execution_count": 26,
   "metadata": {},
   "outputs": [
    {
     "name": "stdout",
     "output_type": "stream",
     "text": [
      "58\n",
      "24\n"
     ]
    }
   ],
   "source": [
    "import math\n",
    "print(math.ceil(82*.7))\n",
    "print(math.floor(82*.3))"
   ]
  },
  {
   "cell_type": "markdown",
   "metadata": {},
   "source": [
    "### 5. Write down your observations on the above plots to find which features had maximum influence on the target - 1 point "
   ]
  },
  {
   "cell_type": "code",
   "execution_count": null,
   "metadata": {},
   "outputs": [],
   "source": []
  },
  {
   "cell_type": "markdown",
   "metadata": {},
   "source": [
    "### 6. What kind of a problem is this? (eg. classification, regression, clustering, etc) - 0.5 points"
   ]
  },
  {
   "cell_type": "code",
   "execution_count": null,
   "metadata": {},
   "outputs": [],
   "source": []
  },
  {
   "cell_type": "markdown",
   "metadata": {
    "collapsed": true
   },
   "source": [
    "### 7. Get the quick description of data using info() and description() functions - 0.5 points"
   ]
  },
  {
   "cell_type": "code",
   "execution_count": null,
   "metadata": {},
   "outputs": [],
   "source": []
  },
  {
   "cell_type": "markdown",
   "metadata": {},
   "source": [
    "### 8. Perform min-max normalization on features and target - 2 points"
   ]
  },
  {
   "cell_type": "code",
   "execution_count": null,
   "metadata": {},
   "outputs": [],
   "source": []
  },
  {
   "cell_type": "markdown",
   "metadata": {},
   "source": [
    "### 9. Describe rules of NumPy Broadcasting - 1 point"
   ]
  },
  {
   "cell_type": "code",
   "execution_count": null,
   "metadata": {},
   "outputs": [],
   "source": []
  },
  {
   "cell_type": "markdown",
   "metadata": {},
   "source": [
    "### 10. Describe the purpose of numpy.reshape with a valid example - 0.5 points\n"
   ]
  },
  {
   "cell_type": "code",
   "execution_count": null,
   "metadata": {},
   "outputs": [],
   "source": []
  }
 ],
 "metadata": {
  "kernelspec": {
   "display_name": "Python 3",
   "language": "python",
   "name": "python3"
  },
  "language_info": {
   "codemirror_mode": {
    "name": "ipython",
    "version": 3
   },
   "file_extension": ".py",
   "mimetype": "text/x-python",
   "name": "python",
   "nbconvert_exporter": "python",
   "pygments_lexer": "ipython3",
   "version": "3.8.3"
  }
 },
 "nbformat": 4,
 "nbformat_minor": 2
}
