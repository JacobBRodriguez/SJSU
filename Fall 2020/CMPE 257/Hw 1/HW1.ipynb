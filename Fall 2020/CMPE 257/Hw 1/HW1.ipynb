{
 "cells": [
  {
   "cell_type": "markdown",
   "metadata": {
    "colab_type": "text",
    "id": "-9rcVXOL2ogw"
   },
   "source": [
    "## Hands on Lab & Homework\n"
   ]
  },
  {
   "cell_type": "markdown",
   "metadata": {
    "colab_type": "text",
    "id": "g1CW8ieH29hb"
   },
   "source": [
    "### Q1. Perform the following computation without use of any libraries\n",
    "\n",
    "\n",
    "```math\n",
    "    [1,-40,36]\n",
    "A = [2,80,-72]\n",
    "    [3,-40,-72]\n",
    "\n",
    "    [0,49,7]\n",
    "B = [9,64,81]\n",
    "    [222,3,0.1]\n",
    "```\n",
    "\n",
    "Given two matrices A & B perform the operations:\n",
    "* A + B\n",
    "* A - B\n",
    "* AB"
   ]
  },
  {
   "cell_type": "code",
   "execution_count": 13,
   "metadata": {
    "colab": {},
    "colab_type": "code",
    "id": "bsVUuAXChcuh"
   },
   "outputs": [
    {
     "name": "stdout",
     "output_type": "stream",
     "text": [
      "[[1, 9, 43], [11, 144, 9], [225, -37, -71.9]]\n",
      "[[1, -89, 29], [-7, 16, -153], [-219, -43, -72.1]]\n",
      "[[7632, -2403, -3229.4], [-15264, 5002, 6486.8], [-16344, -2629, -3226.2]]\n"
     ]
    }
   ],
   "source": [
    "A = [[1,-40,36],[2,80,-72],[3,-40,-72]]\n",
    "B = [[0,49,7],[9,64,81],[222,3,0.1]]\n",
    "\n",
    "Answer_1 = [[0,0,0],[0,0,0],[0,0,0]]\n",
    "Answer_2 = [[0,0,0],[0,0,0],[0,0,0]]\n",
    "Answer_3 = [[0,0,0],[0,0,0],[0,0,0]]\n",
    "\n",
    "for index, value in enumerate(A):\n",
    "    for index_inner, value_inner in enumerate(A[index]):\n",
    "        Answer_1[index][index_inner] = A[index][index_inner] + B[index][index_inner]\n",
    "        Answer_2[index][index_inner] = A[index][index_inner] - B[index][index_inner]\n",
    "        \n",
    "for index, value in enumerate(A):\n",
    "    for index_inner, value_inner in enumerate(A[index]):\n",
    "        for last_index, last_value in enumerate(A):\n",
    "            Answer_3[index][index_inner] += A[index][last_index] * B[last_index][index_inner]\n",
    "        \n",
    "print(Answer_1)\n",
    "print(Answer_2)\n",
    "print(Answer_3)"
   ]
  },
  {
   "cell_type": "markdown",
   "metadata": {
    "colab_type": "text",
    "id": "LNaDbRzX7gT8"
   },
   "source": [
    "### Q2. Perform the same computation using Numpy package"
   ]
  },
  {
   "cell_type": "code",
   "execution_count": 16,
   "metadata": {},
   "outputs": [
    {
     "name": "stdout",
     "output_type": "stream",
     "text": [
      "[[  1.    9.   43. ]\n",
      " [ 11.  144.    9. ]\n",
      " [225.  -37.  -71.9]]\n",
      "[[   1.   -89.    29. ]\n",
      " [  -7.    16.  -153. ]\n",
      " [-219.   -43.   -72.1]]\n",
      "[[  7632.   -2403.   -3229.4]\n",
      " [-15264.    5002.    6486.8]\n",
      " [-16344.   -2629.   -3226.2]]\n"
     ]
    }
   ],
   "source": [
    "import numpy as np\n",
    "A1 = np.array([[1,-40,36],[2,80,-72],[3,-40,-72]])\n",
    "B1 = np.array([[0,49,7],[9,64,81],[222,3,0.1]])\n",
    "\n",
    "answer_1 = np.add(A1,B1)\n",
    "answer_2 = np.subtract(A1,B1)\n",
    "answer_3 = np.matmul(A1,B1)\n",
    "\n",
    "print(answer_1)\n",
    "print(answer_2)\n",
    "print(answer_3)"
   ]
  },
  {
   "cell_type": "markdown",
   "metadata": {
    "colab_type": "text",
    "id": "kJ2l-Da_87du"
   },
   "source": [
    "### Q3. Compute using numpy\n",
    "* A<sup>T</sup>\n",
    "* B<sup>T</sup>\n",
    "* A<sup>T</sup>B<sup>T</sup>\n",
    "* AA<sup>T</sup>"
   ]
  },
  {
   "cell_type": "code",
   "execution_count": 20,
   "metadata": {
    "colab": {},
    "colab_type": "code",
    "id": "N9pGsuDb9Vt6",
    "scrolled": true
   },
   "outputs": [
    {
     "name": "stdout",
     "output_type": "stream",
     "text": [
      "[[  1   2   3]\n",
      " [-40  80 -40]\n",
      " [ 36 -72 -72]]\n",
      "[[0.00e+00 9.00e+00 2.22e+02]\n",
      " [4.90e+01 6.40e+01 3.00e+00]\n",
      " [7.00e+00 8.10e+01 1.00e-01]]\n",
      "[[   119.     380.     228.3]\n",
      " [  3640.    1520.   -8644. ]\n",
      " [ -4032.  -10116.    7768.8]]\n",
      "[[ 2897 -5790  -989]\n",
      " [-5790 11588  1990]\n",
      " [ -989  1990  6793]]\n"
     ]
    }
   ],
   "source": [
    "A2 = np.array([[1,-40,36],[2,80,-72],[3,-40,-72]])\n",
    "B2 = np.array([[0,49,7],[9,64,81],[222,3,0.1]])\n",
    "\n",
    "aT = A2.transpose()\n",
    "bT = B2.transpose()\n",
    "aTbT = np.matmul(aT,bT)\n",
    "aaT = np.matmul(A2,aT)\n",
    "\n",
    "print(aT)\n",
    "print(bT)\n",
    "print(aTbT)\n",
    "print(aaT)"
   ]
  },
  {
   "cell_type": "markdown",
   "metadata": {
    "colab_type": "text",
    "id": "-b-ozbG7oVE1"
   },
   "source": [
    "### Q4. Load a dataset from file (data_1.csv)"
   ]
  },
  {
   "cell_type": "code",
   "execution_count": 22,
   "metadata": {},
   "outputs": [],
   "source": [
    "data_1 = np.loadtxt(\"data_1.csv\", delimiter=',')"
   ]
  },
  {
   "cell_type": "markdown",
   "metadata": {
    "colab_type": "text",
    "id": "C_zF_wFIolxP"
   },
   "source": [
    "### Q5. Print size of the matrix"
   ]
  },
  {
   "cell_type": "code",
   "execution_count": 46,
   "metadata": {},
   "outputs": [
    {
     "name": "stdout",
     "output_type": "stream",
     "text": [
      "20000\n"
     ]
    }
   ],
   "source": [
    "print(data_1.size)"
   ]
  },
  {
   "cell_type": "markdown",
   "metadata": {
    "colab_type": "text",
    "id": "LtauOqfQoyOC"
   },
   "source": [
    "### Q6. Slice matrix into X value & Y Value"
   ]
  },
  {
   "cell_type": "code",
   "execution_count": 32,
   "metadata": {},
   "outputs": [
    {
     "name": "stdout",
     "output_type": "stream",
     "text": [
      "[[-1.99282674]\n",
      " [-1.93544494]\n",
      " [-1.02032103]\n",
      " ...\n",
      " [ 4.86744406]\n",
      " [ 2.75352546]\n",
      " [ 2.15642094]]\n"
     ]
    }
   ],
   "source": [
    "X_slice = data_1[0:,0:1]\n",
    "Y_slice = data_1[0:,1:]"
   ]
  },
  {
   "cell_type": "markdown",
   "metadata": {
    "colab_type": "text",
    "id": "vrUTR2qYQQUC"
   },
   "source": [
    "### Q7. Plot the data points"
   ]
  },
  {
   "cell_type": "code",
   "execution_count": 34,
   "metadata": {},
   "outputs": [
    {
     "data": {
      "text/plain": [
       "[<matplotlib.lines.Line2D at 0x7ff9f5721af0>]"
      ]
     },
     "execution_count": 34,
     "metadata": {},
     "output_type": "execute_result"
    },
    {
     "data": {
      "image/png": "[encoded data removed]",
      "text/plain": [
       "<Figure size 432x288 with 1 Axes>"
      ]
     },
     "metadata": {
      "needs_background": "light"
     },
     "output_type": "display_data"
    }
   ],
   "source": [
    "import matplotlib.pyplot as plt\n",
    "\n",
    "plt.plot(X_slice,Y_slice)"
   ]
  },
  {
   "cell_type": "markdown",
   "metadata": {
    "colab_type": "text",
    "id": "9GrmEWW8QXar"
   },
   "source": [
    "### Q8. Plot a straight line that represents the relation between X & Y"
   ]
  },
  {
   "cell_type": "code",
   "execution_count": 39,
   "metadata": {},
   "outputs": [
    {
     "data": {
      "image/png": "[encoded data removed]",
      "text/plain": [
       "<Figure size 432x288 with 1 Axes>"
      ]
     },
     "metadata": {
      "needs_background": "light"
     },
     "output_type": "display_data"
    }
   ],
   "source": [
    "plt.plot(X_slice,Y_slice)\n",
    "plt.plot([-3, 3], [-9, 10], 'k-', lw=2,color='r')\n",
    "plt.show()\n"
   ]
  },
  {
   "cell_type": "markdown",
   "metadata": {
    "colab_type": "text",
    "id": "61vbfhCXkVwf"
   },
   "source": [
    "### Q9 Repeat Q4 - Q8 using data_2.csv"
   ]
  },
  {
   "cell_type": "code",
   "execution_count": 48,
   "metadata": {},
   "outputs": [
    {
     "name": "stdout",
     "output_type": "stream",
     "text": [
      "20000\n"
     ]
    },
    {
     "data": {
      "image/png": "[encoded data removed]",
      "text/plain": [
       "<Figure size 432x288 with 1 Axes>"
      ]
     },
     "metadata": {
      "needs_background": "light"
     },
     "output_type": "display_data"
    },
    {
     "data": {
      "image/png": "[encoded data removed]",
      "text/plain": [
       "<Figure size 432x288 with 1 Axes>"
      ]
     },
     "metadata": {
      "needs_background": "light"
     },
     "output_type": "display_data"
    }
   ],
   "source": [
    "data_2 = np.loadtxt(\"data_2.csv\", delimiter=',')\n",
    "\n",
    "print(data_2.size)\n",
    "\n",
    "X2_slice = data_2[0:,0:1]\n",
    "Y2_slice = data_2[0:,1:]\n",
    "\n",
    "plt.plot(X2_slice,Y2_slice)\n",
    "plt.show()\n",
    "\n",
    "plt.plot(X2_slice,Y2_slice)\n",
    "plt.plot([-2, 2], [-1.8, 1.8], 'k-', lw=2,color='r')\n",
    "plt.show()"
   ]
  },
  {
   "cell_type": "code",
   "execution_count": null,
   "metadata": {},
   "outputs": [],
   "source": []
  }
 ],
 "metadata": {
  "colab": {
   "collapsed_sections": [],
   "name": "LAB1/HW.ipynb",
   "provenance": [],
   "toc_visible": true
  },
  "kernelspec": {
   "display_name": "Python 3",
   "language": "python",
   "name": "python3"
  },
  "language_info": {
   "codemirror_mode": {
    "name": "ipython",
    "version": 3
   },
   "file_extension": ".py",
   "mimetype": "text/x-python",
   "name": "python",
   "nbconvert_exporter": "python",
   "pygments_lexer": "ipython3",
   "version": "3.8.3"
  }
 },
 "nbformat": 4,
 "nbformat_minor": 1
}
