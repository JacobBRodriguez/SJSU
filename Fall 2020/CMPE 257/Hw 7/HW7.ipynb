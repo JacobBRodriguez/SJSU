{
 "cells": [
  {
   "cell_type": "markdown",
   "metadata": {},
   "source": [
    "### 1) What are the main motivations for reducing a dataset’s dimensionality? - 0.5 points\n",
    "### What are the main drawbacks? - 0.5 points"
   ]
  },
  {
   "cell_type": "markdown",
   "metadata": {},
   "source": [
    "#### Main motivations:\n",
    "- If there is a large dataset with 10,000 or so features, we may be able to slim it down to say 500 dimensions. This allows us to focus more on the important features.\n",
    "- Also, a larger dataset will take longer to train a model on and so a reduction will decrease that training time.\n",
    "- A model may be training on noise if there are a lot of unnecessary features and thus may overfit the model.\n",
    "\n",
    "#### Main drawbacks:\n",
    "- We lose some variance in the data whenever we reduce the dimensions. This means that some recorded behavior in a dataset may not be analyzed in the final training."
   ]
  },
  {
   "cell_type": "markdown",
   "metadata": {},
   "source": [
    "### Load the MNIST dataset (given below) \n"
   ]
  },
  {
   "cell_type": "code",
   "execution_count": 1,
   "metadata": {},
   "outputs": [
    {
     "data": {
      "text/plain": [
       "dict_keys(['data', 'target', 'frame', 'categories', 'feature_names', 'target_names', 'DESCR', 'details', 'url'])"
      ]
     },
     "execution_count": 1,
     "metadata": {},
     "output_type": "execute_result"
    }
   ],
   "source": [
    "from sklearn.datasets import fetch_openml\n",
    "mnist = fetch_openml('mnist_784', version=1)\n",
    "mnist.keys()"
   ]
  },
  {
   "cell_type": "markdown",
   "metadata": {},
   "source": [
    "### 2) Split it into a training set and a test set\n",
    "### Take the first 60,000 instances for training, and the remaining 10,000 for testing. - 1 point"
   ]
  },
  {
   "cell_type": "code",
   "execution_count": 2,
   "metadata": {},
   "outputs": [],
   "source": [
    "# Split data into train and test\n",
    "from sklearn.model_selection import train_test_split\n",
    "x_train, x_test, y_train, y_test = train_test_split(mnist.data, mnist.target, test_size=10000, shuffle=False)"
   ]
  },
  {
   "cell_type": "markdown",
   "metadata": {},
   "source": [
    "### 3) Train a Random Forest classifier on the dataset and time how long it takes, - 1 point\n",
    "### then evaluate the resulting model on the test set. - 1 point"
   ]
  },
  {
   "cell_type": "code",
   "execution_count": 3,
   "metadata": {},
   "outputs": [
    {
     "name": "stdout",
     "output_type": "stream",
     "text": [
      "Time taken to train:  38.381765604019165\n",
      "Classifier accuracy:  0.9698\n"
     ]
    }
   ],
   "source": [
    "import time\n",
    "from sklearn.ensemble import RandomForestClassifier\n",
    "from sklearn.metrics import accuracy_score\n",
    "\n",
    "clf = RandomForestClassifier()\n",
    "rfc_start = time.time()\n",
    "clf.fit(x_train, y_train)\n",
    "rfc_stop = time.time()\n",
    "time_sec = rfc_stop - rfc_start\n",
    "predict = clf.predict(x_test)\n",
    "print(\"Time taken to train: \", time_sec)\n",
    "print(\"Classifier accuracy: \", accuracy_score(y_test, predict))\n"
   ]
  },
  {
   "cell_type": "markdown",
   "metadata": {},
   "source": [
    "### 4) Next, use PCA to reduce the dataset’s dimensionality, with an explained variance ratio of 95%. - 2 + 2 points"
   ]
  },
  {
   "cell_type": "code",
   "execution_count": 4,
   "metadata": {},
   "outputs": [
    {
     "name": "stdout",
     "output_type": "stream",
     "text": [
      "Total explained variance ratio:  0.9501960192613034\n"
     ]
    }
   ],
   "source": [
    "from sklearn.decomposition import PCA\n",
    "\n",
    "pca = PCA(0.95)\n",
    "\n",
    "transformed = pca.fit_transform(x_train)\n",
    "print(\"Total explained variance ratio: \", pca.explained_variance_ratio_.sum())"
   ]
  },
  {
   "cell_type": "code",
   "execution_count": 5,
   "metadata": {},
   "outputs": [
    {
     "data": {
      "text/plain": [
       "array([[ 123.93258866, -312.67426202,  -24.51405176, ...,   55.01899792,\n",
       "         -20.08327427,   39.58995229],\n",
       "       [1011.71837587, -294.85703827,  596.33956104, ...,    7.24129874,\n",
       "         -12.45780869,  -12.7432306 ],\n",
       "       [ -51.84960805,  392.17315286, -188.50974943, ...,  -54.19582221,\n",
       "          48.47979747,  -73.27826256],\n",
       "       ...,\n",
       "       [-178.0534496 ,  160.07821109, -257.61308227, ...,   55.54485537,\n",
       "          87.99883556,   -5.78979735],\n",
       "       [ 130.60607208,   -5.59193642,  513.85867395, ...,   23.30835402,\n",
       "           5.06237836,  -65.26525587],\n",
       "       [-173.43595244,  -24.71880226,  556.01889393, ...,   52.4956069 ,\n",
       "          12.63192292,  -45.74001227]])"
      ]
     },
     "execution_count": 5,
     "metadata": {},
     "output_type": "execute_result"
    }
   ],
   "source": [
    "transformed"
   ]
  },
  {
   "cell_type": "markdown",
   "metadata": {},
   "source": [
    "### 5)  Train a new Random Forest classifier on the reduced dataset and see how long it takes. - 1 point\n",
    "### Was training much faster?\n",
    "- Answer: It was actually slower than the non-transformed model training. By about 50 percent."
   ]
  },
  {
   "cell_type": "code",
   "execution_count": 6,
   "metadata": {},
   "outputs": [
    {
     "name": "stdout",
     "output_type": "stream",
     "text": [
      "Time taken to train with PCA:  78.82187390327454\n"
     ]
    }
   ],
   "source": [
    "del clf\n",
    "\n",
    "clf = RandomForestClassifier()\n",
    "rfc_start = time.time()\n",
    "clf.fit(transformed, y_train)\n",
    "rfc_stop = time.time()\n",
    "time_sec = rfc_stop - rfc_start\n",
    "print(\"Time taken to train with PCA: \", time_sec)"
   ]
  },
  {
   "cell_type": "markdown",
   "metadata": {},
   "source": [
    "### 6) Next evaluate the classifier on the test set: how does it compare to the previous classifier? - 1 point\n",
    "- Answer: The accuracy wasn't affected too much. Only lost about 2 percent accuracy with the PCA data"
   ]
  },
  {
   "cell_type": "code",
   "execution_count": 7,
   "metadata": {},
   "outputs": [
    {
     "name": "stdout",
     "output_type": "stream",
     "text": [
      "Classifier accuracy of PCA trained data:  0.9492\n"
     ]
    }
   ],
   "source": [
    "transformed_test = pca.transform(x_test)\n",
    "\n",
    "predict = clf.predict(transformed_test)\n",
    "print(\"Classifier accuracy of PCA trained data: \", accuracy_score(y_test, predict))"
   ]
  },
  {
   "cell_type": "code",
   "execution_count": null,
   "metadata": {},
   "outputs": [],
   "source": []
  }
 ],
 "metadata": {
  "kernelspec": {
   "display_name": "Python 3",
   "language": "python",
   "name": "python3"
  },
  "language_info": {
   "codemirror_mode": {
    "name": "ipython",
    "version": 3
   },
   "file_extension": ".py",
   "mimetype": "text/x-python",
   "name": "python",
   "nbconvert_exporter": "python",
   "pygments_lexer": "ipython3",
   "version": "3.8.3"
  }
 },
 "nbformat": 4,
 "nbformat_minor": 4
}
