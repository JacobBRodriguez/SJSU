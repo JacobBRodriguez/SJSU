{
 "cells": [
  {
   "cell_type": "code",
   "execution_count": 1,
   "metadata": {},
   "outputs": [],
   "source": [
    "# First need to import dataset from Github\n",
    "# Import needed libraries to get data from URL and load into Pandas DF\n",
    "import os\n",
    "import tarfile\n",
    "import urllib\n",
    "import pandas as pd\n",
    "\n",
    "# Define url and OS path that I want to save csv data under\n",
    "DATA_URL_WHOLE = \"https://raw.githubusercontent.com/JacobBRodriguez/SJSU/master/Fall%202020/DataSets/heart-complete.csv\"\n",
    "DATA_PATH = os.path.join(\"/Users/Do-While/Desktop/SJSU/Classes/SJSU/Fall 2020\", \"DataSets\")\n",
    "\n",
    "# Function to get data from URL and return it as Pandas dataframe\n",
    "def fetch_and_load_from_url(data_url, data_path, txt_file_name):\n",
    "    \n",
    "    # If no data path exists, create directory\n",
    "    if not os.path.isdir(data_path):\n",
    "        os.makedirs(data_path)\n",
    "    # create text document path under OS path\n",
    "    txt_path = os.path.join(data_path, txt_file_name)\n",
    "    # Using URL, request data and return to created path\n",
    "    urllib.request.urlretrieve(data_url, txt_path)\n",
    "    # Read in text file, convert csv to pandas df and return upon close of file\n",
    "    with open(txt_path, \"r\") as file:\n",
    "        return pd.read_csv(file)\n",
    "\n",
    "# Creating dataframe\n",
    "heart_complete_df = fetch_and_load_from_url(DATA_URL_WHOLE, DATA_PATH, \"heart_complete.txt\")"
   ]
  },
  {
   "cell_type": "code",
   "execution_count": 2,
   "metadata": {},
   "outputs": [
    {
     "data": {
      "text/plain": [
       "0      1\n",
       "1      1\n",
       "2      0\n",
       "3      1\n",
       "4      1\n",
       "      ..\n",
       "457    0\n",
       "458    1\n",
       "459    0\n",
       "460    0\n",
       "461    1\n",
       "Name: chd, Length: 462, dtype: int64"
      ]
     },
     "execution_count": 2,
     "metadata": {},
     "output_type": "execute_result"
    }
   ],
   "source": [
    "heart_complete_df.iloc[:,9]"
   ]
  },
  {
   "cell_type": "markdown",
   "metadata": {},
   "source": [
    "### 1. Split the datset into train and test samples"
   ]
  },
  {
   "cell_type": "code",
   "execution_count": 3,
   "metadata": {},
   "outputs": [],
   "source": [
    "# Using train_test_split function from sklearn to split the data\n",
    "from sklearn.model_selection import train_test_split\n",
    "\n",
    "# Divide data into X and Y\n",
    "x_data = heart_complete_df.iloc[:,0:9]\n",
    "y_data = heart_complete_df.iloc[:,9]\n",
    "\n",
    "# Split data into train and test\n",
    "x_train, x_test, y_train, y_test = train_test_split(x_data, y_data, test_size=0.30, random_state=66)"
   ]
  },
  {
   "cell_type": "code",
   "execution_count": 4,
   "metadata": {},
   "outputs": [
    {
     "data": {
      "text/html": [
       "<div>\n",
       "<style scoped>\n",
       "    .dataframe tbody tr th:only-of-type {\n",
       "        vertical-align: middle;\n",
       "    }\n",
       "\n",
       "    .dataframe tbody tr th {\n",
       "        vertical-align: top;\n",
       "    }\n",
       "\n",
       "    .dataframe thead th {\n",
       "        text-align: right;\n",
       "    }\n",
       "</style>\n",
       "<table border=\"1\" class=\"dataframe\">\n",
       "  <thead>\n",
       "    <tr style=\"text-align: right;\">\n",
       "      <th></th>\n",
       "      <th>sbp</th>\n",
       "      <th>tobacco</th>\n",
       "      <th>ldl</th>\n",
       "      <th>adiposity</th>\n",
       "      <th>famhist</th>\n",
       "      <th>typea</th>\n",
       "      <th>obesity</th>\n",
       "      <th>alcohol</th>\n",
       "      <th>age</th>\n",
       "    </tr>\n",
       "  </thead>\n",
       "  <tbody>\n",
       "    <tr>\n",
       "      <th>292</th>\n",
       "      <td>150</td>\n",
       "      <td>0.18</td>\n",
       "      <td>4.14</td>\n",
       "      <td>14.40</td>\n",
       "      <td>Absent</td>\n",
       "      <td>53</td>\n",
       "      <td>23.43</td>\n",
       "      <td>7.71</td>\n",
       "      <td>44</td>\n",
       "    </tr>\n",
       "    <tr>\n",
       "      <th>349</th>\n",
       "      <td>162</td>\n",
       "      <td>5.60</td>\n",
       "      <td>4.24</td>\n",
       "      <td>22.53</td>\n",
       "      <td>Absent</td>\n",
       "      <td>29</td>\n",
       "      <td>22.91</td>\n",
       "      <td>5.66</td>\n",
       "      <td>60</td>\n",
       "    </tr>\n",
       "    <tr>\n",
       "      <th>355</th>\n",
       "      <td>134</td>\n",
       "      <td>0.90</td>\n",
       "      <td>3.18</td>\n",
       "      <td>23.66</td>\n",
       "      <td>Present</td>\n",
       "      <td>52</td>\n",
       "      <td>23.26</td>\n",
       "      <td>27.36</td>\n",
       "      <td>58</td>\n",
       "    </tr>\n",
       "    <tr>\n",
       "      <th>221</th>\n",
       "      <td>164</td>\n",
       "      <td>0.50</td>\n",
       "      <td>6.95</td>\n",
       "      <td>39.64</td>\n",
       "      <td>Present</td>\n",
       "      <td>47</td>\n",
       "      <td>41.76</td>\n",
       "      <td>3.81</td>\n",
       "      <td>46</td>\n",
       "    </tr>\n",
       "    <tr>\n",
       "      <th>335</th>\n",
       "      <td>162</td>\n",
       "      <td>6.94</td>\n",
       "      <td>4.55</td>\n",
       "      <td>33.36</td>\n",
       "      <td>Present</td>\n",
       "      <td>52</td>\n",
       "      <td>27.09</td>\n",
       "      <td>32.06</td>\n",
       "      <td>43</td>\n",
       "    </tr>\n",
       "    <tr>\n",
       "      <th>...</th>\n",
       "      <td>...</td>\n",
       "      <td>...</td>\n",
       "      <td>...</td>\n",
       "      <td>...</td>\n",
       "      <td>...</td>\n",
       "      <td>...</td>\n",
       "      <td>...</td>\n",
       "      <td>...</td>\n",
       "      <td>...</td>\n",
       "    </tr>\n",
       "    <tr>\n",
       "      <th>122</th>\n",
       "      <td>120</td>\n",
       "      <td>0.00</td>\n",
       "      <td>5.01</td>\n",
       "      <td>26.13</td>\n",
       "      <td>Absent</td>\n",
       "      <td>64</td>\n",
       "      <td>26.21</td>\n",
       "      <td>12.24</td>\n",
       "      <td>33</td>\n",
       "    </tr>\n",
       "    <tr>\n",
       "      <th>51</th>\n",
       "      <td>134</td>\n",
       "      <td>2.50</td>\n",
       "      <td>3.66</td>\n",
       "      <td>30.90</td>\n",
       "      <td>Absent</td>\n",
       "      <td>52</td>\n",
       "      <td>27.19</td>\n",
       "      <td>23.66</td>\n",
       "      <td>49</td>\n",
       "    </tr>\n",
       "    <tr>\n",
       "      <th>119</th>\n",
       "      <td>130</td>\n",
       "      <td>0.00</td>\n",
       "      <td>3.92</td>\n",
       "      <td>25.55</td>\n",
       "      <td>Absent</td>\n",
       "      <td>68</td>\n",
       "      <td>28.02</td>\n",
       "      <td>0.68</td>\n",
       "      <td>27</td>\n",
       "    </tr>\n",
       "    <tr>\n",
       "      <th>316</th>\n",
       "      <td>124</td>\n",
       "      <td>0.00</td>\n",
       "      <td>2.28</td>\n",
       "      <td>24.86</td>\n",
       "      <td>Present</td>\n",
       "      <td>50</td>\n",
       "      <td>22.24</td>\n",
       "      <td>8.26</td>\n",
       "      <td>38</td>\n",
       "    </tr>\n",
       "    <tr>\n",
       "      <th>20</th>\n",
       "      <td>106</td>\n",
       "      <td>1.61</td>\n",
       "      <td>1.74</td>\n",
       "      <td>12.32</td>\n",
       "      <td>Absent</td>\n",
       "      <td>74</td>\n",
       "      <td>20.92</td>\n",
       "      <td>13.37</td>\n",
       "      <td>20</td>\n",
       "    </tr>\n",
       "  </tbody>\n",
       "</table>\n",
       "<p>323 rows × 9 columns</p>\n",
       "</div>"
      ],
      "text/plain": [
       "     sbp  tobacco   ldl  adiposity  famhist  typea  obesity  alcohol  age\n",
       "292  150     0.18  4.14      14.40   Absent     53    23.43     7.71   44\n",
       "349  162     5.60  4.24      22.53   Absent     29    22.91     5.66   60\n",
       "355  134     0.90  3.18      23.66  Present     52    23.26    27.36   58\n",
       "221  164     0.50  6.95      39.64  Present     47    41.76     3.81   46\n",
       "335  162     6.94  4.55      33.36  Present     52    27.09    32.06   43\n",
       "..   ...      ...   ...        ...      ...    ...      ...      ...  ...\n",
       "122  120     0.00  5.01      26.13   Absent     64    26.21    12.24   33\n",
       "51   134     2.50  3.66      30.90   Absent     52    27.19    23.66   49\n",
       "119  130     0.00  3.92      25.55   Absent     68    28.02     0.68   27\n",
       "316  124     0.00  2.28      24.86  Present     50    22.24     8.26   38\n",
       "20   106     1.61  1.74      12.32   Absent     74    20.92    13.37   20\n",
       "\n",
       "[323 rows x 9 columns]"
      ]
     },
     "execution_count": 4,
     "metadata": {},
     "output_type": "execute_result"
    }
   ],
   "source": [
    "x_train"
   ]
  },
  {
   "cell_type": "markdown",
   "metadata": {},
   "source": [
    "### 2. Apply the regression model that I think is most suited for problem\n",
    "- Will be using logistic regression"
   ]
  },
  {
   "cell_type": "code",
   "execution_count": 5,
   "metadata": {},
   "outputs": [
    {
     "name": "stderr",
     "output_type": "stream",
     "text": [
      "<ipython-input-5-1e852889b6ae>:7: SettingWithCopyWarning: \n",
      "A value is trying to be set on a copy of a slice from a DataFrame.\n",
      "Try using .loc[row_indexer,col_indexer] = value instead\n",
      "\n",
      "See the caveats in the documentation: https://pandas.pydata.org/pandas-docs/stable/user_guide/indexing.html#returning-a-view-versus-a-copy\n",
      "  x_train[\"famhist\"] = x_train[\"famhist\"].astype(str)\n",
      "<ipython-input-5-1e852889b6ae>:8: SettingWithCopyWarning: \n",
      "A value is trying to be set on a copy of a slice from a DataFrame.\n",
      "Try using .loc[row_indexer,col_indexer] = value instead\n",
      "\n",
      "See the caveats in the documentation: https://pandas.pydata.org/pandas-docs/stable/user_guide/indexing.html#returning-a-view-versus-a-copy\n",
      "  x_test[\"famhist\"] = x_test[\"famhist\"].astype(str)\n",
      "<ipython-input-5-1e852889b6ae>:24: SettingWithCopyWarning: \n",
      "A value is trying to be set on a copy of a slice from a DataFrame.\n",
      "Try using .loc[row_indexer,col_indexer] = value instead\n",
      "\n",
      "See the caveats in the documentation: https://pandas.pydata.org/pandas-docs/stable/user_guide/indexing.html#returning-a-view-versus-a-copy\n",
      "  x_train[\"famhist\"] = famhist_trans\n",
      "<ipython-input-5-1e852889b6ae>:25: SettingWithCopyWarning: \n",
      "A value is trying to be set on a copy of a slice from a DataFrame.\n",
      "Try using .loc[row_indexer,col_indexer] = value instead\n",
      "\n",
      "See the caveats in the documentation: https://pandas.pydata.org/pandas-docs/stable/user_guide/indexing.html#returning-a-view-versus-a-copy\n",
      "  x_test[\"famhist\"] = famhist_test_trans\n"
     ]
    }
   ],
   "source": [
    "# import logistic regression library and preprocessing to get data into needed format for regression model\n",
    "from sklearn.linear_model import LogisticRegression\n",
    "from sklearn import preprocessing\n",
    "\n",
    "# Need to do column preprocessing so that can use model\n",
    "# Converting column to String so that can perform label encoding\n",
    "x_train[\"famhist\"] = x_train[\"famhist\"].astype(str)\n",
    "x_test[\"famhist\"] = x_test[\"famhist\"].astype(str)\n",
    "\n",
    "# Doing label encoding so that model can have its float values\n",
    "\n",
    "# Creating label encoding object\n",
    "label_encoder = preprocessing.LabelEncoder()\n",
    "\n",
    "# Selecting column to be transformed\n",
    "famhist_data = x_train[\"famhist\"]\n",
    "famhist_test_data = x_test[\"famhist\"]\n",
    "\n",
    "# Fitting and transforming string values to unique ints based on their current value\n",
    "famhist_trans = label_encoder.fit_transform(famhist_data)\n",
    "famhist_test_trans = label_encoder.transform(famhist_test_data)\n",
    "\n",
    "# Adding transformed array in place of original data\n",
    "x_train[\"famhist\"] = famhist_trans\n",
    "x_test[\"famhist\"] = famhist_test_trans\n",
    "\n",
    "# Creating logistic regression object with maximum number of iterations set to 1000 so that model can complete its training\n",
    "logistic = LogisticRegression(max_iter=1000)\n",
    "\n",
    "logistic.fit(x_train, y_train)\n",
    "\n",
    "y_predict = logistic.predict(x_test)"
   ]
  },
  {
   "cell_type": "markdown",
   "metadata": {},
   "source": [
    "### 3. Compare my prediction result with the first technique"
   ]
  },
  {
   "cell_type": "code",
   "execution_count": 6,
   "metadata": {},
   "outputs": [
    {
     "name": "stdout",
     "output_type": "stream",
     "text": [
      "Precision of Task 2: 0.675\n",
      "Recall of Task 2: 0.491\n",
      "F1 Score of Task 2: 0.568\n",
      "Accuracy of Task 2: 0.705\n"
     ]
    },
    {
     "data": {
      "image/png": "[encoded data removed]",
      "text/plain": [
       "<Figure size 432x288 with 2 Axes>"
      ]
     },
     "metadata": {
      "needs_background": "light"
     },
     "output_type": "display_data"
    }
   ],
   "source": [
    "# Computing the confusion matrix for Part 2 result\n",
    "# importing sklearn library for confusion matrix function\n",
    "from sklearn.metrics import confusion_matrix\n",
    "# Using seaborn for visualization\n",
    "import seaborn as sns\n",
    "import numpy as np\n",
    "# Creating confusion matrix with test values and predicted Y values\n",
    "cf_matrix_2 = confusion_matrix(y_test, y_predict)\n",
    "\n",
    "group_names = ['True Neg', 'False Pos', 'False Neg', 'True Pos']\n",
    "group_counts = [\"{0:0.0f}\".format(value) for value in cf_matrix_2.flatten()]\n",
    "group_percentages = [\"{0:.2%}\".format(value) for value in cf_matrix_2.flatten()/np.sum(cf_matrix_2)]\n",
    "\n",
    "labels = [f\"{v1}\\n{v2}\\n{v3}\" for v1, v2, v3 in zip(group_names, group_counts, group_percentages)]\n",
    "labels = np.asarray(labels).reshape(2,2)\n",
    "\n",
    "sns.heatmap(cf_matrix_2, annot=labels, fmt='', cmap=\"Blues\")\n",
    "\n",
    "# Computing the Precision, Recall and F1 Score from matrix and accuracy\n",
    "precision = cf_matrix_2[1,1] / sum(cf_matrix_2[:,1])\n",
    "recall = cf_matrix_2[1,1] / sum(cf_matrix_2[1,:])\n",
    "f1_score = 2*precision*recall / (precision + recall)\n",
    "accuracy  = np.trace(cf_matrix_2) / float(np.sum(cf_matrix_2))\n",
    "print(\"Precision of Task 2: {:0.3f}\".format(precision))\n",
    "print(\"Recall of Task 2: {:0.3f}\".format(recall))\n",
    "print(\"F1 Score of Task 2: {:0.3f}\".format(f1_score))\n",
    "print(\"Accuracy of Task 2: {:0.3f}\".format(accuracy))\n",
    "\n",
    "# Credit to https://medium.com/@dtuk81/confusion-matrix-visualization-fc31e3f30fea for visualizing the Confusion Matrix"
   ]
  },
  {
   "cell_type": "markdown",
   "metadata": {},
   "source": [
    "### Comparision to Decision Tree"
   ]
  },
  {
   "cell_type": "code",
   "execution_count": 7,
   "metadata": {},
   "outputs": [],
   "source": [
    "from sklearn import svm\n",
    "import sklearn.metrics as metric\n",
    "%matplotlib inline"
   ]
  },
  {
   "cell_type": "code",
   "execution_count": 8,
   "metadata": {},
   "outputs": [],
   "source": [
    "from sklearn import tree\n",
    "\n",
    "# Making a decision tree object with default values for purining strategies and splitting criterion (gini index)\n",
    "d_tree = tree.DecisionTreeClassifier(max_depth=15)\n",
    "# Training model on same testing data as above\n",
    "d_tree.fit(x_train, y_train)\n",
    "y_predict = d_tree.predict(x_test)"
   ]
  },
  {
   "cell_type": "code",
   "execution_count": 9,
   "metadata": {},
   "outputs": [
    {
     "name": "stdout",
     "output_type": "stream",
     "text": [
      "Precision of Task 2: 0.500\n",
      "Recall of Task 2: 0.400\n",
      "F1 Score of Task 2: 0.444\n",
      "Accuracy of Task 2: 0.604\n"
     ]
    },
    {
     "data": {
      "image/png": "[encoded data removed]",
      "text/plain": [
       "<Figure size 432x288 with 2 Axes>"
      ]
     },
     "metadata": {
      "needs_background": "light"
     },
     "output_type": "display_data"
    }
   ],
   "source": [
    "# Creating confusion matrix with test values and predicted Y values\n",
    "cf_matrix_21 = confusion_matrix(y_test, y_predict)\n",
    "\n",
    "group_names = ['True Neg', 'False Pos', 'False Neg', 'True Pos']\n",
    "group_counts = [\"{0:0.0f}\".format(value) for value in cf_matrix_21.flatten()]\n",
    "group_percentages = [\"{0:.2%}\".format(value) for value in cf_matrix_21.flatten()/np.sum(cf_matrix_21)]\n",
    "\n",
    "labels = [f\"{v1}\\n{v2}\\n{v3}\" for v1, v2, v3 in zip(group_names, group_counts, group_percentages)]\n",
    "labels = np.asarray(labels).reshape(2,2)\n",
    "\n",
    "sns.heatmap(cf_matrix_21, annot=labels, fmt='', cmap=\"Blues\")\n",
    "\n",
    "# Computing the Precision, Recall and F1 Score from matrix and accuracy\n",
    "precision = cf_matrix_21[1,1] / sum(cf_matrix_21[:,1])\n",
    "recall = cf_matrix_21[1,1] / sum(cf_matrix_21[1,:])\n",
    "f1_score = 2*precision*recall / (precision + recall)\n",
    "accuracy  = np.trace(cf_matrix_21) / float(np.sum(cf_matrix_21))\n",
    "print(\"Precision of Task 2: {:0.3f}\".format(precision))\n",
    "print(\"Recall of Task 2: {:0.3f}\".format(recall))\n",
    "print(\"F1 Score of Task 2: {:0.3f}\".format(f1_score))\n",
    "print(\"Accuracy of Task 2: {:0.3f}\".format(accuracy))\n"
   ]
  },
  {
   "cell_type": "code",
   "execution_count": null,
   "metadata": {},
   "outputs": [],
   "source": []
  }
 ],
 "metadata": {
  "kernelspec": {
   "display_name": "Python 3",
   "language": "python",
   "name": "python3"
  },
  "language_info": {
   "codemirror_mode": {
    "name": "ipython",
    "version": 3
   },
   "file_extension": ".py",
   "mimetype": "text/x-python",
   "name": "python",
   "nbconvert_exporter": "python",
   "pygments_lexer": "ipython3",
   "version": "3.8.3"
  }
 },
 "nbformat": 4,
 "nbformat_minor": 4
}
