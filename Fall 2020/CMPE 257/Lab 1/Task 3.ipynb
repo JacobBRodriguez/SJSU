{
 "cells": [
  {
   "cell_type": "code",
   "execution_count": 1,
   "metadata": {},
   "outputs": [],
   "source": [
    "# First need to import dataset from Github\n",
    "# Import needed libraries to get data from URL and load into Pandas DF\n",
    "import os\n",
    "import tarfile\n",
    "import urllib\n",
    "import pandas as pd\n",
    "\n",
    "\"\"\"\n",
    "# Define url and OS path that I want to save csv data under\n",
    "DATA_URL = \"https://raw.githubusercontent.com/JacobBRodriguez/SJSU/master/Fall%202020/DataSets/heart-train.csv\"\n",
    "DATA_URL_TEST = \"https://raw.githubusercontent.com/JacobBRodriguez/SJSU/master/Fall%202020/DataSets/heart-test.csv\"\n",
    "DATA_PATH = os.path.join(\"/Users/Do-While/Desktop/SJSU/Classes/SJSU/Fall 2020\", \"DataSets\")\n",
    "\n",
    "# Function to get data from URL and return it as Pandas dataframe\n",
    "def fetch_and_load_from_url(data_url, data_path, txt_file_name):\n",
    "    \n",
    "    # If no data path exists, create directory\n",
    "    if not os.path.isdir(data_path):\n",
    "        os.makedirs(data_path)\n",
    "    # create text document path under OS path\n",
    "    txt_path = os.path.join(data_path, txt_file_name)\n",
    "    # Using URL, request data and return to created path\n",
    "    urllib.request.urlretrieve(data_url, txt_path)\n",
    "    # Read in text file, convert csv to pandas df and return upon close of file\n",
    "    with open(txt_path, \"r\") as file:\n",
    "        return pd.read_csv(file)\n",
    "\n",
    "# Creating 2 separate dataframes\n",
    "heart_train_df = fetch_and_load_from_url(DATA_URL, DATA_PATH, \"heart_train.txt\")\n",
    "heart_test_df = fetch_and_load_from_url(DATA_URL_TEST, DATA_PATH, \"heart_test.txt\")\n",
    "\"\"\""
   ]
  },
  {
   "cell_type": "code",
   "execution_count": 5,
   "metadata": {},
   "outputs": [],
   "source": [
    "# Define url and OS path that I want to save csv data under\n",
    "DATA_URL_WHOLE = \"https://raw.githubusercontent.com/JacobBRodriguez/SJSU/master/Fall%202020/DataSets/heart-complete.csv\"\n",
    "DATA_PATH = os.path.join(\"/Users/Do-While/Desktop/SJSU/Classes/SJSU/Fall 2020\", \"DataSets\")\n",
    "\n",
    "# Function to get data from URL and return it as Pandas dataframe\n",
    "def fetch_and_load_from_url(data_url, data_path, txt_file_name):\n",
    "    \n",
    "    # If no data path exists, create directory\n",
    "    if not os.path.isdir(data_path):\n",
    "        os.makedirs(data_path)\n",
    "    # create text document path under OS path\n",
    "    txt_path = os.path.join(data_path, txt_file_name)\n",
    "    # Using URL, request data and return to created path\n",
    "    urllib.request.urlretrieve(data_url, txt_path)\n",
    "    # Read in text file, convert csv to pandas df and return upon close of file\n",
    "    with open(txt_path, \"r\") as file:\n",
    "        return pd.read_csv(file)\n",
    "\n",
    "# Creating dataframe\n",
    "heart_complete_df = fetch_and_load_from_url(DATA_URL_WHOLE, DATA_PATH, \"heart_complete.txt\")"
   ]
  },
  {
   "cell_type": "markdown",
   "metadata": {},
   "source": [
    "### A. Apply feature transformation on the features used in Task 1"
   ]
  },
  {
   "cell_type": "code",
   "execution_count": 6,
   "metadata": {},
   "outputs": [],
   "source": [
    "# Using train_test_split function from sklearn to split the data\n",
    "from sklearn.model_selection import train_test_split\n",
    "\n",
    "# Divide data into X and Y\n",
    "x_data = heart_complete_df.iloc[:,0:9]\n",
    "y_data = heart_complete_df.iloc[:,9]\n",
    "\n",
    "# Split data into train and test\n",
    "x_train, x_test, y_train, y_test = train_test_split(x_data, y_data, test_size=0.30, random_state=66)"
   ]
  },
  {
   "cell_type": "code",
   "execution_count": 30,
   "metadata": {},
   "outputs": [
    {
     "name": "stderr",
     "output_type": "stream",
     "text": [
      "<ipython-input-30-d0671fb8112e>:12: SettingWithCopyWarning: \n",
      "A value is trying to be set on a copy of a slice from a DataFrame.\n",
      "Try using .loc[row_indexer,col_indexer] = value instead\n",
      "\n",
      "See the caveats in the documentation: https://pandas.pydata.org/pandas-docs/stable/user_guide/indexing.html#returning-a-view-versus-a-copy\n",
      "  x_train[\"famhist\"] = x_train[\"famhist\"].astype(str)\n",
      "<ipython-input-30-d0671fb8112e>:13: SettingWithCopyWarning: \n",
      "A value is trying to be set on a copy of a slice from a DataFrame.\n",
      "Try using .loc[row_indexer,col_indexer] = value instead\n",
      "\n",
      "See the caveats in the documentation: https://pandas.pydata.org/pandas-docs/stable/user_guide/indexing.html#returning-a-view-versus-a-copy\n",
      "  x_test[\"famhist\"] = x_test[\"famhist\"].astype(str)\n",
      "<ipython-input-30-d0671fb8112e>:29: SettingWithCopyWarning: \n",
      "A value is trying to be set on a copy of a slice from a DataFrame.\n",
      "Try using .loc[row_indexer,col_indexer] = value instead\n",
      "\n",
      "See the caveats in the documentation: https://pandas.pydata.org/pandas-docs/stable/user_guide/indexing.html#returning-a-view-versus-a-copy\n",
      "  x_train[\"famhist\"] = famhist_trans\n",
      "<ipython-input-30-d0671fb8112e>:30: SettingWithCopyWarning: \n",
      "A value is trying to be set on a copy of a slice from a DataFrame.\n",
      "Try using .loc[row_indexer,col_indexer] = value instead\n",
      "\n",
      "See the caveats in the documentation: https://pandas.pydata.org/pandas-docs/stable/user_guide/indexing.html#returning-a-view-versus-a-copy\n",
      "  x_test[\"famhist\"] = famhist_test_trans\n",
      "C:\\Users\\Do-While\\anaconda3\\lib\\site-packages\\sklearn\\linear_model\\_logistic.py:762: ConvergenceWarning: lbfgs failed to converge (status=1):\n",
      "STOP: TOTAL NO. of ITERATIONS REACHED LIMIT.\n",
      "\n",
      "Increase the number of iterations (max_iter) or scale the data as shown in:\n",
      "    https://scikit-learn.org/stable/modules/preprocessing.html\n",
      "Please also refer to the documentation for alternative solver options:\n",
      "    https://scikit-learn.org/stable/modules/linear_model.html#logistic-regression\n",
      "  n_iter_i = _check_optimize_result(\n"
     ]
    }
   ],
   "source": [
    "# importing needed library to perform poly transformation\n",
    "from sklearn.preprocessing import PolynomialFeatures\n",
    "\n",
    "\n",
    "\n",
    "# import logistic regression library and preprocessing to get data into needed format for regression model\n",
    "from sklearn.linear_model import LogisticRegression\n",
    "from sklearn import preprocessing\n",
    "\n",
    "# Need to do column preprocessing so that can use model\n",
    "# Converting column to String so that can perform label encoding\n",
    "x_train[\"famhist\"] = x_train[\"famhist\"].astype(str)\n",
    "x_test[\"famhist\"] = x_test[\"famhist\"].astype(str)\n",
    "\n",
    "# Doing label encoding so that model can have its float values\n",
    "\n",
    "# Creating label encoding object\n",
    "label_encoder = preprocessing.LabelEncoder()\n",
    "\n",
    "# Selecting column to be transformed\n",
    "famhist_data = x_train[\"famhist\"]\n",
    "famhist_test_data = x_test[\"famhist\"]\n",
    "\n",
    "# Fitting and transforming string values to unique ints based on their current value\n",
    "famhist_trans = label_encoder.fit_transform(famhist_data)\n",
    "famhist_test_trans = label_encoder.fit_transform(famhist_test_data)\n",
    "\n",
    "# Adding transformed array in place of original data\n",
    "x_train[\"famhist\"] = famhist_trans\n",
    "x_test[\"famhist\"] = famhist_test_trans\n",
    "\n",
    "\n",
    "# Adding polynomial of 2\n",
    "poly_2 = PolynomialFeatures(2)\n",
    "\n",
    "x_train_2 = poly_2.fit_transform(x_train)\n",
    "x_test_2 = poly_2.transform(x_test)\n",
    "\n",
    "\n",
    "\n",
    "\n",
    "# Creating logistic regression object with maximum number of iterations set to 1000 so that model can complete its training\n",
    "logistic_2 = LogisticRegression(max_iter=10000)\n",
    "\n",
    "logistic_2.fit(x_train_2, y_train)\n",
    "\n",
    "y_predict = logistic_2.predict(x_test_2)"
   ]
  },
  {
   "cell_type": "code",
   "execution_count": 31,
   "metadata": {},
   "outputs": [
    {
     "name": "stdout",
     "output_type": "stream",
     "text": [
      "Precision of Task 2: 0.605\n",
      "Recall of Task 2: 0.473\n",
      "F1 Score of Task 2: 0.531\n",
      "Accuracy of Task 2: 0.669\n"
     ]
    },
    {
     "data": {
      "image/png": "[encoded data removed]",
      "text/plain": [
       "<Figure size 432x288 with 2 Axes>"
      ]
     },
     "metadata": {
      "needs_background": "light"
     },
     "output_type": "display_data"
    }
   ],
   "source": [
    "# Computing the confusion matrix for Part 2 result\n",
    "# importing sklearn library for confusion matrix function\n",
    "from sklearn.metrics import confusion_matrix\n",
    "# Using seaborn for visualization\n",
    "import seaborn as sns\n",
    "import numpy as np\n",
    "# Creating confusion matrix with test values and predicted Y values\n",
    "cf_matrix_2 = confusion_matrix(y_test, y_predict)\n",
    "\n",
    "group_names = ['True Neg', 'False Pos', 'False Neg', 'True Pos']\n",
    "group_counts = [\"{0:0.0f}\".format(value) for value in cf_matrix_2.flatten()]\n",
    "group_percentages = [\"{0:.2%}\".format(value) for value in cf_matrix_2.flatten()/np.sum(cf_matrix_2)]\n",
    "\n",
    "labels = [f\"{v1}\\n{v2}\\n{v3}\" for v1, v2, v3 in zip(group_names, group_counts, group_percentages)]\n",
    "labels = np.asarray(labels).reshape(2,2)\n",
    "\n",
    "sns.heatmap(cf_matrix_2, annot=labels, fmt='', cmap=\"Blues\")\n",
    "\n",
    "# Computing the Precision, Recall and F1 Score from matrix and accuracy\n",
    "precision = cf_matrix_2[1,1] / sum(cf_matrix_2[:,1])\n",
    "recall = cf_matrix_2[1,1] / sum(cf_matrix_2[1,:])\n",
    "f1_score = 2*precision*recall / (precision + recall)\n",
    "accuracy  = np.trace(cf_matrix_2) / float(np.sum(cf_matrix_2))\n",
    "print(\"Precision of Poly 2: {:0.3f}\".format(precision))\n",
    "print(\"Recall of Poly 2: {:0.3f}\".format(recall))\n",
    "print(\"F1 Score of Poly 2: {:0.3f}\".format(f1_score))\n",
    "print(\"Accuracy of Poly 2: {:0.3f}\".format(accuracy))\n"
   ]
  },
  {
   "cell_type": "code",
   "execution_count": 23,
   "metadata": {},
   "outputs": [
    {
     "name": "stdout",
     "output_type": "stream",
     "text": [
      "Precision of Task 2: 0.521\n",
      "Recall of Task 2: 0.455\n",
      "F1 Score of Task 2: 0.485\n",
      "Accuracy of Task 2: 0.619\n"
     ]
    },
    {
     "name": "stderr",
     "output_type": "stream",
     "text": [
      "C:\\Users\\Do-While\\anaconda3\\lib\\site-packages\\sklearn\\linear_model\\_logistic.py:762: ConvergenceWarning: lbfgs failed to converge (status=1):\n",
      "STOP: TOTAL NO. of f AND g EVALUATIONS EXCEEDS LIMIT.\n",
      "\n",
      "Increase the number of iterations (max_iter) or scale the data as shown in:\n",
      "    https://scikit-learn.org/stable/modules/preprocessing.html\n",
      "Please also refer to the documentation for alternative solver options:\n",
      "    https://scikit-learn.org/stable/modules/linear_model.html#logistic-regression\n",
      "  n_iter_i = _check_optimize_result(\n"
     ]
    },
    {
     "data": {
      "image/png": "[encoded data removed]",
      "text/plain": [
       "<Figure size 432x288 with 2 Axes>"
      ]
     },
     "metadata": {
      "needs_background": "light"
     },
     "output_type": "display_data"
    }
   ],
   "source": [
    "# Adding polynomial of 5\n",
    "poly_5 = PolynomialFeatures(5)\n",
    "\n",
    "x_train_5 = poly_5.fit_transform(x_train)\n",
    "x_test_5 = poly_5.transform(x_test)\n",
    "\n",
    "\n",
    "\n",
    "\n",
    "# Creating logistic regression object with maximum number of iterations set to 1000 so that model can complete its training\n",
    "logistic_5 = LogisticRegression(max_iter=15000)\n",
    "\n",
    "logistic_5.fit(x_train_5, y_train)\n",
    "\n",
    "y_predict = logistic_5.predict(x_test_5)\n",
    "\n",
    "\n",
    "\n",
    "# Creating confusion matrix with test values and predicted Y values\n",
    "cf_matrix_5 = confusion_matrix(y_test, y_predict)\n",
    "\n",
    "\n",
    "group_names = ['True Neg', 'False Pos', 'False Neg', 'True Pos']\n",
    "group_counts = [\"{0:0.0f}\".format(value) for value in cf_matrix_5.flatten()]\n",
    "group_percentages = [\"{0:.2%}\".format(value) for value in cf_matrix_5.flatten()/np.sum(cf_matrix_5)]\n",
    "\n",
    "labels = [f\"{v1}\\n{v2}\\n{v3}\" for v1, v2, v3 in zip(group_names, group_counts, group_percentages)]\n",
    "labels = np.asarray(labels).reshape(2,2)\n",
    "\n",
    "sns.heatmap(cf_matrix_5, annot=labels, fmt='', cmap=\"Blues\")\n",
    "\n",
    "# Computing the Precision, Recall and F1 Score from matrix and accuracy\n",
    "precision = cf_matrix_5[1,1] / sum(cf_matrix_5[:,1])\n",
    "recall = cf_matrix_5[1,1] / sum(cf_matrix_5[1,:])\n",
    "f1_score = 2*precision*recall / (precision + recall)\n",
    "accuracy  = np.trace(cf_matrix_5) / float(np.sum(cf_matrix_5))\n",
    "print(\"Precision of Poly 5: {:0.3f}\".format(precision))\n",
    "print(\"Recall of Poly 5: {:0.3f}\".format(recall))\n",
    "print(\"F1 Score of Poly 5: {:0.3f}\".format(f1_score))\n",
    "print(\"Accuracy of Poly 5: {:0.3f}\".format(accuracy))"
   ]
  },
  {
   "cell_type": "markdown",
   "metadata": {},
   "source": [
    "#### A. Does varying the polynomial degree change your accuracy?\n",
    "- Polynomial degree changes have lower overall accuracy than that of the base logistic regression model with no polynomial transformations. A degree change of 2 produces a better result than that of 5 but still less than the base model"
   ]
  },
  {
   "cell_type": "markdown",
   "metadata": {},
   "source": [
    "#### Trying Standard Scaler to data"
   ]
  },
  {
   "cell_type": "code",
   "execution_count": 28,
   "metadata": {},
   "outputs": [],
   "source": [
    "from sklearn.preprocessing import StandardScaler\n",
    "\n",
    "scaler = StandardScaler()\n",
    "\n",
    "x_train_scale = scaler.fit_transform(x_train)\n",
    "x_test_scale = scaler.transform(x_test)\n",
    "\n",
    "# Creating logistic regression object with maximum number of iterations set to 1000 so that model can complete its training\n",
    "logistic_scaler = LogisticRegression(max_iter=1000)\n",
    "\n",
    "logistic_scaler.fit(x_train_scale, y_train)\n",
    "\n",
    "y_predict = logistic_scaler.predict(x_test_scale)"
   ]
  },
  {
   "cell_type": "code",
   "execution_count": 29,
   "metadata": {},
   "outputs": [
    {
     "name": "stdout",
     "output_type": "stream",
     "text": [
      "Precision of Task 2: 0.675\n",
      "Recall of Task 2: 0.491\n",
      "F1 Score of Task 2: 0.568\n",
      "Accuracy of Task 2: 0.705\n"
     ]
    },
    {
     "data": {
      "image/png": "[encoded data removed]",
      "text/plain": [
       "<Figure size 432x288 with 2 Axes>"
      ]
     },
     "metadata": {
      "needs_background": "light"
     },
     "output_type": "display_data"
    }
   ],
   "source": [
    "# Creating confusion matrix with test values and predicted Y values\n",
    "cf_matrix_scale = confusion_matrix(y_test, y_predict)\n",
    "\n",
    "\n",
    "group_names = ['True Neg', 'False Pos', 'False Neg', 'True Pos']\n",
    "group_counts = [\"{0:0.0f}\".format(value) for value in cf_matrix_scale.flatten()]\n",
    "group_percentages = [\"{0:.2%}\".format(value) for value in cf_matrix_scale.flatten()/np.sum(cf_matrix_scale)]\n",
    "\n",
    "labels = [f\"{v1}\\n{v2}\\n{v3}\" for v1, v2, v3 in zip(group_names, group_counts, group_percentages)]\n",
    "labels = np.asarray(labels).reshape(2,2)\n",
    "\n",
    "sns.heatmap(cf_matrix_scale, annot=labels, fmt='', cmap=\"Blues\")\n",
    "\n",
    "# Computing the Precision, Recall and F1 Score from matrix and accuracy\n",
    "precision = cf_matrix_scale[1,1] / sum(cf_matrix_scale[:,1])\n",
    "recall = cf_matrix_scale[1,1] / sum(cf_matrix_scale[1,:])\n",
    "f1_score = 2*precision*recall / (precision + recall)\n",
    "accuracy  = np.trace(cf_matrix_scale) / float(np.sum(cf_matrix_scale))\n",
    "print(\"Precision of Scaled: {:0.3f}\".format(precision))\n",
    "print(\"Recall of Scaled: {:0.3f}\".format(recall))\n",
    "print(\"F1 Score of Scaled: {:0.3f}\".format(f1_score))\n",
    "print(\"Accuracy of Scaled: {:0.3f}\".format(accuracy))"
   ]
  },
  {
   "cell_type": "markdown",
   "metadata": {},
   "source": [
    "#### Observation: Standard Scaler\n",
    "- Standard Scaler performed the same as the normal dataset in Part 2"
   ]
  },
  {
   "cell_type": "markdown",
   "metadata": {},
   "source": [
    "### B. Identify if model is underfitting or overfitting - Use a damn Learning Curve"
   ]
  },
  {
   "cell_type": "code",
   "execution_count": 32,
   "metadata": {},
   "outputs": [
    {
     "data": {
      "text/plain": [
       "array([0.70769231, 0.75384615, 0.73846154, 0.765625  , 0.796875  ])"
      ]
     },
     "execution_count": 32,
     "metadata": {},
     "output_type": "execute_result"
    }
   ],
   "source": [
    "# Will be using polynomial features degree 2 for determining overfitting or underfitting\n",
    "from sklearn.model_selection import cross_val_score\n",
    "# Getting cross validation scores\n",
    "scores = cross_val_score(logistic_2, x_train, y_train, cv=5)\n",
    "scores"
   ]
  },
  {
   "cell_type": "code",
   "execution_count": 60,
   "metadata": {},
   "outputs": [
    {
     "name": "stderr",
     "output_type": "stream",
     "text": [
      "C:\\Users\\Do-While\\anaconda3\\lib\\site-packages\\sklearn\\base.py:209: FutureWarning: From version 0.24, get_params will raise an AttributeError if a parameter cannot be retrieved as an instance attribute. Previously it would return None.\n",
      "  warnings.warn('From version 0.24, get_params will raise an '\n"
     ]
    },
    {
     "ename": "ValueError",
     "evalue": "X has 55 features per sample; expecting 1596",
     "output_type": "error",
     "traceback": [
      "\u001b[1;31m---------------------------------------------------------------------------\u001b[0m",
      "\u001b[1;31mValueError\u001b[0m                                Traceback (most recent call last)",
      "\u001b[1;32m<ipython-input-60-e65b014efb24>\u001b[0m in \u001b[0;36m<module>\u001b[1;34m\u001b[0m\n\u001b[0;32m     10\u001b[0m \u001b[1;33m\u001b[0m\u001b[0m\n\u001b[0;32m     11\u001b[0m \u001b[1;31m# Evaluate the model on the test data\u001b[0m\u001b[1;33m\u001b[0m\u001b[1;33m\u001b[0m\u001b[1;33m\u001b[0m\u001b[0m\n\u001b[1;32m---> 12\u001b[1;33m \u001b[0mvisualizer\u001b[0m\u001b[1;33m.\u001b[0m\u001b[0mscore\u001b[0m\u001b[1;33m(\u001b[0m\u001b[0mx_test_2\u001b[0m\u001b[1;33m,\u001b[0m \u001b[0my_test\u001b[0m\u001b[1;33m)\u001b[0m\u001b[1;33m\u001b[0m\u001b[1;33m\u001b[0m\u001b[0m\n\u001b[0m\u001b[0;32m     13\u001b[0m \u001b[1;33m\u001b[0m\u001b[0m\n\u001b[0;32m     14\u001b[0m \u001b[1;31m# Draw visualization\u001b[0m\u001b[1;33m\u001b[0m\u001b[1;33m\u001b[0m\u001b[1;33m\u001b[0m\u001b[0m\n",
      "\u001b[1;32m~\\anaconda3\\lib\\site-packages\\yellowbrick\\classifier\\class_prediction_error.py\u001b[0m in \u001b[0;36mscore\u001b[1;34m(self, X, y)\u001b[0m\n\u001b[0;32m    141\u001b[0m         \u001b[1;31m# Must be computed before calling super\u001b[0m\u001b[1;33m\u001b[0m\u001b[1;33m\u001b[0m\u001b[1;33m\u001b[0m\u001b[0m\n\u001b[0;32m    142\u001b[0m         \u001b[1;31m# We're relying on predict to raise NotFitted\u001b[0m\u001b[1;33m\u001b[0m\u001b[1;33m\u001b[0m\u001b[1;33m\u001b[0m\u001b[0m\n\u001b[1;32m--> 143\u001b[1;33m         \u001b[0my_pred\u001b[0m \u001b[1;33m=\u001b[0m \u001b[0mself\u001b[0m\u001b[1;33m.\u001b[0m\u001b[0mpredict\u001b[0m\u001b[1;33m(\u001b[0m\u001b[0mX\u001b[0m\u001b[1;33m)\u001b[0m\u001b[1;33m\u001b[0m\u001b[1;33m\u001b[0m\u001b[0m\n\u001b[0m\u001b[0;32m    144\u001b[0m         \u001b[0my_type\u001b[0m\u001b[1;33m,\u001b[0m \u001b[0my_true\u001b[0m\u001b[1;33m,\u001b[0m \u001b[0my_pred\u001b[0m \u001b[1;33m=\u001b[0m \u001b[0m_check_targets\u001b[0m\u001b[1;33m(\u001b[0m\u001b[0my\u001b[0m\u001b[1;33m,\u001b[0m \u001b[0my_pred\u001b[0m\u001b[1;33m)\u001b[0m\u001b[1;33m\u001b[0m\u001b[1;33m\u001b[0m\u001b[0m\n\u001b[0;32m    145\u001b[0m         \u001b[1;32mif\u001b[0m \u001b[0my_type\u001b[0m \u001b[1;32mnot\u001b[0m \u001b[1;32min\u001b[0m \u001b[1;33m(\u001b[0m\u001b[1;34m\"binary\"\u001b[0m\u001b[1;33m,\u001b[0m \u001b[1;34m\"multiclass\"\u001b[0m\u001b[1;33m)\u001b[0m\u001b[1;33m:\u001b[0m\u001b[1;33m\u001b[0m\u001b[1;33m\u001b[0m\u001b[0m\n",
      "\u001b[1;32m~\\anaconda3\\lib\\site-packages\\sklearn\\linear_model\\_base.py\u001b[0m in \u001b[0;36mpredict\u001b[1;34m(self, X)\u001b[0m\n\u001b[0;32m    305\u001b[0m             \u001b[0mPredicted\u001b[0m \u001b[1;32mclass\u001b[0m \u001b[0mlabel\u001b[0m \u001b[0mper\u001b[0m \u001b[0msample\u001b[0m\u001b[1;33m.\u001b[0m\u001b[1;33m\u001b[0m\u001b[1;33m\u001b[0m\u001b[0m\n\u001b[0;32m    306\u001b[0m         \"\"\"\n\u001b[1;32m--> 307\u001b[1;33m         \u001b[0mscores\u001b[0m \u001b[1;33m=\u001b[0m \u001b[0mself\u001b[0m\u001b[1;33m.\u001b[0m\u001b[0mdecision_function\u001b[0m\u001b[1;33m(\u001b[0m\u001b[0mX\u001b[0m\u001b[1;33m)\u001b[0m\u001b[1;33m\u001b[0m\u001b[1;33m\u001b[0m\u001b[0m\n\u001b[0m\u001b[0;32m    308\u001b[0m         \u001b[1;32mif\u001b[0m \u001b[0mlen\u001b[0m\u001b[1;33m(\u001b[0m\u001b[0mscores\u001b[0m\u001b[1;33m.\u001b[0m\u001b[0mshape\u001b[0m\u001b[1;33m)\u001b[0m \u001b[1;33m==\u001b[0m \u001b[1;36m1\u001b[0m\u001b[1;33m:\u001b[0m\u001b[1;33m\u001b[0m\u001b[1;33m\u001b[0m\u001b[0m\n\u001b[0;32m    309\u001b[0m             \u001b[0mindices\u001b[0m \u001b[1;33m=\u001b[0m \u001b[1;33m(\u001b[0m\u001b[0mscores\u001b[0m \u001b[1;33m>\u001b[0m \u001b[1;36m0\u001b[0m\u001b[1;33m)\u001b[0m\u001b[1;33m.\u001b[0m\u001b[0mastype\u001b[0m\u001b[1;33m(\u001b[0m\u001b[0mnp\u001b[0m\u001b[1;33m.\u001b[0m\u001b[0mint\u001b[0m\u001b[1;33m)\u001b[0m\u001b[1;33m\u001b[0m\u001b[1;33m\u001b[0m\u001b[0m\n",
      "\u001b[1;32m~\\anaconda3\\lib\\site-packages\\sklearn\\linear_model\\_base.py\u001b[0m in \u001b[0;36mdecision_function\u001b[1;34m(self, X)\u001b[0m\n\u001b[0;32m    284\u001b[0m         \u001b[0mn_features\u001b[0m \u001b[1;33m=\u001b[0m \u001b[0mself\u001b[0m\u001b[1;33m.\u001b[0m\u001b[0mcoef_\u001b[0m\u001b[1;33m.\u001b[0m\u001b[0mshape\u001b[0m\u001b[1;33m[\u001b[0m\u001b[1;36m1\u001b[0m\u001b[1;33m]\u001b[0m\u001b[1;33m\u001b[0m\u001b[1;33m\u001b[0m\u001b[0m\n\u001b[0;32m    285\u001b[0m         \u001b[1;32mif\u001b[0m \u001b[0mX\u001b[0m\u001b[1;33m.\u001b[0m\u001b[0mshape\u001b[0m\u001b[1;33m[\u001b[0m\u001b[1;36m1\u001b[0m\u001b[1;33m]\u001b[0m \u001b[1;33m!=\u001b[0m \u001b[0mn_features\u001b[0m\u001b[1;33m:\u001b[0m\u001b[1;33m\u001b[0m\u001b[1;33m\u001b[0m\u001b[0m\n\u001b[1;32m--> 286\u001b[1;33m             raise ValueError(\"X has %d features per sample; expecting %d\"\n\u001b[0m\u001b[0;32m    287\u001b[0m                              % (X.shape[1], n_features))\n\u001b[0;32m    288\u001b[0m \u001b[1;33m\u001b[0m\u001b[0m\n",
      "\u001b[1;31mValueError\u001b[0m: X has 55 features per sample; expecting 1596"
     ]
    },
    {
     "data": {
      "image/png": "[encoded data removed]",
      "text/plain": [
       "<Figure size 576x396 with 1 Axes>"
      ]
     },
     "metadata": {},
     "output_type": "display_data"
    }
   ],
   "source": []
  },
  {
   "cell_type": "code",
   "execution_count": 61,
   "metadata": {},
   "outputs": [
    {
     "data": {
      "text/plain": [
       "array([[1.0000000e+00, 1.4800000e+02, 0.0000000e+00, ..., 1.0745284e+03,\n",
       "        8.8506000e+02, 7.2900000e+02],\n",
       "       [1.0000000e+00, 1.0100000e+02, 4.8000000e-01, ..., 2.6936100e+01,\n",
       "        8.3040000e+01, 2.5600000e+02],\n",
       "       [1.0000000e+00, 1.2400000e+02, 0.0000000e+00, ..., 0.0000000e+00,\n",
       "        0.0000000e+00, 2.5600000e+02],\n",
       "       ...,\n",
       "       [1.0000000e+00, 1.3800000e+02, 5.0000000e-02, ..., 0.0000000e+00,\n",
       "        0.0000000e+00, 3.2400000e+02],\n",
       "       [1.0000000e+00, 1.1800000e+02, 2.8000000e-01, ..., 0.0000000e+00,\n",
       "        0.0000000e+00, 1.6810000e+03],\n",
       "       [1.0000000e+00, 1.3200000e+02, 0.0000000e+00, ..., 1.0634121e+03,\n",
       "        1.0761300e+03, 1.0890000e+03]])"
      ]
     },
     "execution_count": 61,
     "metadata": {},
     "output_type": "execute_result"
    }
   ],
   "source": [
    "x_test_2"
   ]
  },
  {
   "cell_type": "code",
   "execution_count": null,
   "metadata": {},
   "outputs": [],
   "source": []
  }
 ],
 "metadata": {
  "kernelspec": {
   "display_name": "Python 3",
   "language": "python",
   "name": "python3"
  },
  "language_info": {
   "codemirror_mode": {
    "name": "ipython",
    "version": 3
   },
   "file_extension": ".py",
   "mimetype": "text/x-python",
   "name": "python",
   "nbconvert_exporter": "python",
   "pygments_lexer": "ipython3",
   "version": "3.8.3"
  }
 },
 "nbformat": 4,
 "nbformat_minor": 4
}
